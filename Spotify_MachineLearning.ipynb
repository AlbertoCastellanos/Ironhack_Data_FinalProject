{
 "cells": [
  {
   "cell_type": "markdown",
   "metadata": {},
   "source": [
    "# Final Project - Ironhack Data Analytics Bootcamp\n",
    "# Spotify Popularity Prediction Model - Machine Learning"
   ]
  },
  {
   "cell_type": "markdown",
   "metadata": {},
   "source": [
    "#### Importing the packages to be used"
   ]
  },
  {
   "cell_type": "code",
   "execution_count": 94,
   "metadata": {},
   "outputs": [],
   "source": [
    "import numpy as np\n",
    "import pandas as pd\n",
    "import matplotlib.pyplot as plt\n",
    "import seaborn as sns\n",
    "import math\n",
    "from sklearn.model_selection import train_test_split\n",
    "from sklearn import linear_model\n",
    "from sklearn.linear_model import LogisticRegression\n",
    "from sklearn.svm import SVC\n",
    "from sklearn.neural_network import MLPClassifier\n",
    "from sklearn.naive_bayes import GaussianNB\n",
    "from sklearn.ensemble import RandomForestClassifier\n",
    "from sklearn.metrics import confusion_matrix\n",
    "from sklearn import tree\n",
    "from sklearn.neighbors import KNeighborsClassifier\n",
    "from sklearn import metrics\n",
    "from sklearn.model_selection import cross_val_score\n",
    "from sklearn.model_selection import GridSearchCV\n",
    "from sklearn.feature_selection import RFECV\n",
    "from sklearn.feature_selection import RFE\n",
    "from sklearn.decomposition import PCA\n",
    "from sklearn.ensemble import AdaBoostClassifier\n",
    "from sklearn.tree import DecisionTreeClassifier"
   ]
  },
  {
   "cell_type": "code",
   "execution_count": 2,
   "metadata": {},
   "outputs": [],
   "source": [
    "import warnings\n",
    "warnings.filterwarnings('ignore')"
   ]
  },
  {
   "cell_type": "markdown",
   "metadata": {},
   "source": [
    "#### Importing the datasets"
   ]
  },
  {
   "cell_type": "code",
   "execution_count": 3,
   "metadata": {},
   "outputs": [],
   "source": [
    "Clas=pd.read_csv('Spotify_CleanWithOutliers')"
   ]
  },
  {
   "cell_type": "code",
   "execution_count": 4,
   "metadata": {},
   "outputs": [],
   "source": [
    "ClasOut=pd.read_csv('Spotify_CleanWithoutOutliers')"
   ]
  },
  {
   "cell_type": "markdown",
   "metadata": {},
   "source": [
    "### Preparation of training and testing samples"
   ]
  },
  {
   "cell_type": "markdown",
   "metadata": {},
   "source": [
    "We now define the features (X) and the target (y):"
   ]
  },
  {
   "cell_type": "code",
   "execution_count": 7,
   "metadata": {},
   "outputs": [],
   "source": [
    "y=Clas['popularity']\n",
    "X=Clas.drop(columns=['popularity', 'Unnamed: 0' ])"
   ]
  },
  {
   "cell_type": "markdown",
   "metadata": {},
   "source": [
    "We can now specify what part of our dataset is the target and what part corresponds to the features:"
   ]
  },
  {
   "cell_type": "code",
   "execution_count": 8,
   "metadata": {},
   "outputs": [
    {
     "data": {
      "text/plain": [
       "(71770, 7975, 71770, 7975)"
      ]
     },
     "execution_count": 8,
     "metadata": {},
     "output_type": "execute_result"
    }
   ],
   "source": [
    "X_train, X_test, y_train, y_test = train_test_split(X,y,test_size=0.1)\n",
    "len(X_train), len(X_test), len(y_train), len(y_test)"
   ]
  },
  {
   "cell_type": "markdown",
   "metadata": {},
   "source": [
    "And same for the option without outliers:"
   ]
  },
  {
   "cell_type": "code",
   "execution_count": 10,
   "metadata": {},
   "outputs": [],
   "source": [
    "yOut=ClasOut['popularity']\n",
    "XOut=ClasOut.drop(columns=['popularity', 'Unnamed: 0'])"
   ]
  },
  {
   "cell_type": "code",
   "execution_count": 12,
   "metadata": {},
   "outputs": [
    {
     "data": {
      "text/plain": [
       "(96018, 10669, 96018, 10669)"
      ]
     },
     "execution_count": 12,
     "metadata": {},
     "output_type": "execute_result"
    }
   ],
   "source": [
    "XOut_train, XOut_test, yOut_train, yOut_test = train_test_split(XOut,yOut,test_size=0.1)\n",
    "len(XOut_train), len(XOut_test), len(yOut_train), len(yOut_test)"
   ]
  },
  {
   "cell_type": "markdown",
   "metadata": {},
   "source": [
    "### Other steps before the real action"
   ]
  },
  {
   "cell_type": "markdown",
   "metadata": {},
   "source": [
    "We also define a function to represent the confusion matrix in later steps"
   ]
  },
  {
   "cell_type": "code",
   "execution_count": 50,
   "metadata": {},
   "outputs": [],
   "source": [
    "def confusionMatrixHeatmap(cm, labels):\n",
    "    totals = cm.sum(axis=1)\n",
    "    cm_total = (np.ones(cm.shape)*totals).transpose()\n",
    "    m2 = np.round(((cm/cm_total)*100).astype(float))\n",
    "    np.set_printoptions(precision=2)\n",
    "    f, ax=plt.subplots(figsize=(7.5,5))\n",
    "    sns.heatmap(m2, annot=True, linecolor='white', linewidths=0.2,\n",
    "                xticklabels=labels, yticklabels=labels)\n",
    "    ax.set_title('CONFUSION MATRIX')\n",
    "    plt.xlabel('Classified as')\n",
    "    plt.ylabel('Real Values')\n",
    "labl=['Not Popular' ,'Popular']"
   ]
  },
  {
   "cell_type": "markdown",
   "metadata": {},
   "source": [
    "# Model Creation, Train and Testing"
   ]
  },
  {
   "cell_type": "markdown",
   "metadata": {},
   "source": [
    "### Linear Regression Model"
   ]
  },
  {
   "cell_type": "markdown",
   "metadata": {},
   "source": [
    "We know the correlation between the features and the targer are very low, this condition makes us expect a non-linear regressive model. However, it's never a bad idea to double check. The code below will return a very low score representative of the innacuracy of the current model:"
   ]
  },
  {
   "cell_type": "code",
   "execution_count": 14,
   "metadata": {
    "scrolled": true
   },
   "outputs": [
    {
     "data": {
      "text/plain": [
       "0.1326297313892354"
      ]
     },
     "metadata": {},
     "output_type": "display_data"
    }
   ],
   "source": [
    "linModel=linear_model.LinearRegression()\n",
    "linModel.fit(X, y)\n",
    "display(linModel.score(X, y))"
   ]
  },
  {
   "cell_type": "markdown",
   "metadata": {},
   "source": [
    "## Classification models"
   ]
  },
  {
   "cell_type": "markdown",
   "metadata": {},
   "source": [
    "## 1. Logistic Regression Model"
   ]
  },
  {
   "cell_type": "markdown",
   "metadata": {},
   "source": [
    "With Outliers:"
   ]
  },
  {
   "cell_type": "markdown",
   "metadata": {},
   "source": [
    "#### Grid Search and Model Fitting"
   ]
  },
  {
   "cell_type": "code",
   "execution_count": 24,
   "metadata": {},
   "outputs": [
    {
     "name": "stdout",
     "output_type": "stream",
     "text": [
      "The parameters combination that would give best accuracy is : \n",
      "{'C': 5, 'solver': 'liblinear', 'tol': 0.01}\n"
     ]
    }
   ],
   "source": [
    "logModel=LogisticRegression()\n",
    "parameterslog={'tol': [0.001, 0.01, 0.1], 'C': [10,5,1,0.1],\n",
    "            'solver': ['newton-cg', 'lbfgs', 'liblinear', 'sag', 'saga'] }\n",
    "GS= GridSearchCV(logModel, parameterslog, n_jobs=-1)\n",
    "GS.fit(X_train, y_train)\n",
    "print('The parameters combination that would give best accuracy is : ')\n",
    "print(GS.best_params_)"
   ]
  },
  {
   "cell_type": "markdown",
   "metadata": {},
   "source": [
    "We now apply the best parameters possible returned by the Grid Search"
   ]
  },
  {
   "cell_type": "code",
   "execution_count": 25,
   "metadata": {},
   "outputs": [
    {
     "data": {
      "text/plain": [
       "'The score is:'"
      ]
     },
     "metadata": {},
     "output_type": "display_data"
    },
    {
     "data": {
      "text/plain": [
       "0.6516614420062696"
      ]
     },
     "metadata": {},
     "output_type": "display_data"
    },
    {
     "data": {
      "text/plain": [
       "'The accuracy is:'"
      ]
     },
     "metadata": {},
     "output_type": "display_data"
    },
    {
     "data": {
      "text/plain": [
       "0.6516614420062696"
      ]
     },
     "metadata": {},
     "output_type": "display_data"
    }
   ],
   "source": [
    "logModel=LogisticRegression(C=5, solver='liblinear' , tol=0.001)\n",
    "logModel.fit(X_train, y_train)\n",
    "y_pred_test_log=logModel.predict(X_test)\n",
    "display('The accuracy is:')\n",
    "display(metrics.accuracy_score(y_test, y_pred_test_log))"
   ]
  },
  {
   "cell_type": "markdown",
   "metadata": {},
   "source": [
    "#### Cross Validation"
   ]
  },
  {
   "cell_type": "code",
   "execution_count": 27,
   "metadata": {},
   "outputs": [
    {
     "data": {
      "text/plain": [
       "array([0.75611285, 0.65730408, 0.6230721 , 0.60827586, 0.59523511,\n",
       "       0.64112853, 0.61730408, 0.60872837, 0.65558761, 0.78389565])"
      ]
     },
     "metadata": {},
     "output_type": "display_data"
    },
    {
     "name": "stdout",
     "output_type": "stream",
     "text": [
      "The mean score for cross validation is 0.654664422506322\n"
     ]
    }
   ],
   "source": [
    "# cv=10 because it's been scientifically demonstrated that value is optimum for classification\n",
    "# scoring is set to accuracy since accuracy is the evaluation matrix \n",
    "scoreslog = cross_val_score(logModel, X, y, cv=10, scoring='accuracy')\n",
    "display(scoreslog)\n",
    "print(\"The mean score for cross validation is %s\"%(scoreslog.mean()))\n"
   ]
  },
  {
   "cell_type": "code",
   "execution_count": 51,
   "metadata": {},
   "outputs": [
    {
     "data": {
      "text/plain": [
       "array([[2907,  895],\n",
       "       [1883, 2290]])"
      ]
     },
     "metadata": {},
     "output_type": "display_data"
    },
    {
     "data": {
      "image/png": "[encoded data removed]",
      "text/plain": [
       "<Figure size 540x360 with 2 Axes>"
      ]
     },
     "metadata": {
      "needs_background": "light"
     },
     "output_type": "display_data"
    }
   ],
   "source": [
    "cmlog=confusion_matrix(y_test, y_pred_test_log)\n",
    "display(cmlog)\n",
    "confusionMatrixHeatmap(cmlog, labl)"
   ]
  },
  {
   "cell_type": "markdown",
   "metadata": {},
   "source": [
    "Without Outliers:"
   ]
  },
  {
   "cell_type": "code",
   "execution_count": 29,
   "metadata": {},
   "outputs": [
    {
     "data": {
      "text/plain": [
       "'The score is:'"
      ]
     },
     "metadata": {},
     "output_type": "display_data"
    },
    {
     "data": {
      "text/plain": [
       "0.37829224857062516"
      ]
     },
     "metadata": {},
     "output_type": "display_data"
    },
    {
     "data": {
      "text/plain": [
       "'The accuracy is:'"
      ]
     },
     "metadata": {},
     "output_type": "display_data"
    },
    {
     "data": {
      "text/plain": [
       "0.37829224857062516"
      ]
     },
     "metadata": {},
     "output_type": "display_data"
    }
   ],
   "source": [
    "logOutModel=LogisticRegression()\n",
    "logOutModel.fit(XOut_train, yOut_train)\n",
    "yOut_pred_test_log=logOutModel.predict(XOut_test)\n",
    "display('The accuracy is:')\n",
    "display(metrics.accuracy_score(yOut_test, yOut_pred_test_log))"
   ]
  },
  {
   "cell_type": "markdown",
   "metadata": {},
   "source": [
    "The score without outlier is much smaller hence it is not worth working with this option anymore"
   ]
  },
  {
   "cell_type": "markdown",
   "metadata": {},
   "source": [
    "## 2. SVC"
   ]
  },
  {
   "cell_type": "markdown",
   "metadata": {},
   "source": [
    "SVC scales very bad so we have decided to take a sample of a 10000 items, to make the model training faster. This time we just work with the option containing outliers."
   ]
  },
  {
   "cell_type": "code",
   "execution_count": 30,
   "metadata": {},
   "outputs": [
    {
     "data": {
      "text/plain": [
       "(9000, 1000, 9000, 1000)"
      ]
     },
     "execution_count": 30,
     "metadata": {},
     "output_type": "execute_result"
    }
   ],
   "source": [
    "svcSample=Clas.sample(10000)\n",
    "ysvc=svcSample['popularity']\n",
    "Xsvc=svcSample.drop(columns=['popularity', 'Unnamed: 0'])\n",
    "Xsvc_train, Xsvc_test, ysvc_train, ysvc_test = train_test_split(Xsvc,ysvc,test_size=0.1)\n",
    "len(Xsvc_train), len(Xsvc_test), len(ysvc_train), len(ysvc_test)"
   ]
  },
  {
   "cell_type": "code",
   "execution_count": 45,
   "metadata": {},
   "outputs": [
    {
     "name": "stdout",
     "output_type": "stream",
     "text": [
      "The parameters combination that would give best accuracy is : \n",
      "{'gamma': 0.1}\n"
     ]
    }
   ],
   "source": [
    "svcModel=SVC()\n",
    "parameterssvc={'gamma': [0.01, 0.02, 0.09, 0.05, 0.1, 0.15, 0.2] }\n",
    "GSsvc= GridSearchCV(svcModel, parameterssvc, n_jobs=-1)\n",
    "GSsvc.fit(Xsvc_train, ysvc_train)\n",
    "print('The parameters combination that would give best accuracy is : ')\n",
    "print(GSsvc.best_params_)"
   ]
  },
  {
   "cell_type": "markdown",
   "metadata": {},
   "source": [
    "We now apply the best parameters possible returned by the Grid Search"
   ]
  },
  {
   "cell_type": "code",
   "execution_count": 48,
   "metadata": {},
   "outputs": [
    {
     "data": {
      "text/plain": [
       "'The accuracy is:'"
      ]
     },
     "metadata": {},
     "output_type": "display_data"
    },
    {
     "data": {
      "text/plain": [
       "0.635"
      ]
     },
     "metadata": {},
     "output_type": "display_data"
    }
   ],
   "source": [
    "svcModel=SVC(gamma=0.1)\n",
    "svcModel.fit(Xsvc_train,ysvc_train)\n",
    "ysvc_pred_test=svcModel.predict(Xsvc_test)\n",
    "display('The accuracy is:')\n",
    "display(metrics.accuracy_score(ysvc_test, ysvc_pred_test))"
   ]
  },
  {
   "cell_type": "code",
   "execution_count": 52,
   "metadata": {},
   "outputs": [
    {
     "data": {
      "text/plain": [
       "array([[353, 133],\n",
       "       [232, 282]])"
      ]
     },
     "metadata": {},
     "output_type": "display_data"
    },
    {
     "data": {
      "image/png": "[encoded data removed]",
      "text/plain": [
       "<Figure size 540x360 with 2 Axes>"
      ]
     },
     "metadata": {
      "needs_background": "light"
     },
     "output_type": "display_data"
    }
   ],
   "source": [
    "cmsvc=confusion_matrix(ysvc_test, ysvc_pred_test)\n",
    "display(cmsvc)\n",
    "confusionMatrixHeatmap(cmsvc, labl)"
   ]
  },
  {
   "cell_type": "markdown",
   "metadata": {},
   "source": [
    "## Neural Networks: Multi-layer Perceptron"
   ]
  },
  {
   "cell_type": "markdown",
   "metadata": {},
   "source": [
    "With Outliers:"
   ]
  },
  {
   "cell_type": "code",
   "execution_count": 54,
   "metadata": {},
   "outputs": [
    {
     "name": "stdout",
     "output_type": "stream",
     "text": [
      "The parameters combination that would give best accuracy is : \n",
      "{'C': 5, 'solver': 'liblinear', 'tol': 0.01}\n"
     ]
    }
   ],
   "source": [
    "mlpModel=MLPClassifier()\n",
    "parametersmlp={'activation': ['identity', 'logistic', 'tanh', 'relu'], \n",
    "               'solver': ['lbfgs', 'sgd', 'adam']}\n",
    "GSmlp= GridSearchCV(mlpModel, parametersmlp, n_jobs=-1)\n",
    "GSmlp.fit(X_train, y_train)\n",
    "print('The parameters combination that would give best accuracy is : ')\n",
    "print(GS.best_params_)\n"
   ]
  },
  {
   "cell_type": "code",
   "execution_count": 55,
   "metadata": {},
   "outputs": [
    {
     "name": "stdout",
     "output_type": "stream",
     "text": [
      "The parameters combination that would give best accuracy is : \n",
      "{'activation': 'tanh', 'solver': 'adam'}\n"
     ]
    }
   ],
   "source": [
    "print('The parameters combination that would give best accuracy is : ')\n",
    "print(GSmlp.best_params_)"
   ]
  },
  {
   "cell_type": "code",
   "execution_count": 56,
   "metadata": {},
   "outputs": [
    {
     "data": {
      "text/plain": [
       "'The accuracy is:'"
      ]
     },
     "metadata": {},
     "output_type": "display_data"
    },
    {
     "data": {
      "text/plain": [
       "0.6600626959247649"
      ]
     },
     "metadata": {},
     "output_type": "display_data"
    }
   ],
   "source": [
    "mlpModel = MLPClassifier(activation='tanh', solver='adam')\n",
    "mlpModel.fit(X_train, y_train)\n",
    "ymlp_pred_test=mlpModel.predict(X_test)\n",
    "display('The accuracy is:')\n",
    "display(metrics.accuracy_score(y_test, ymlp_pred_test))"
   ]
  },
  {
   "cell_type": "code",
   "execution_count": 59,
   "metadata": {},
   "outputs": [
    {
     "data": {
      "text/plain": [
       "array([[2711, 1091],\n",
       "       [1620, 2553]])"
      ]
     },
     "metadata": {},
     "output_type": "display_data"
    },
    {
     "data": {
      "image/png": "[encoded data removed]",
      "text/plain": [
       "<Figure size 540x360 with 2 Axes>"
      ]
     },
     "metadata": {
      "needs_background": "light"
     },
     "output_type": "display_data"
    }
   ],
   "source": [
    "cmmlp=confusion_matrix(y_test, ymlp_pred_test)\n",
    "display(cmmlp)\n",
    "confusionMatrixHeatmap(cmmlp, labl)"
   ]
  },
  {
   "cell_type": "markdown",
   "metadata": {},
   "source": [
    "## Naive Bayes"
   ]
  },
  {
   "cell_type": "markdown",
   "metadata": {},
   "source": [
    "With Outliers:"
   ]
  },
  {
   "cell_type": "code",
   "execution_count": 57,
   "metadata": {},
   "outputs": [
    {
     "data": {
      "text/plain": [
       "'The accuracy is:'"
      ]
     },
     "metadata": {},
     "output_type": "display_data"
    },
    {
     "data": {
      "text/plain": [
       "0.5487147335423197"
      ]
     },
     "metadata": {},
     "output_type": "display_data"
    }
   ],
   "source": [
    "nbModel = GaussianNB()\n",
    "nbModel.fit(X_train, y_train)\n",
    "ynb_pred_test = nbModel.predict(X_test)\n",
    "display('The accuracy is:')\n",
    "display(metrics.accuracy_score(y_test, ynb_pred_test))"
   ]
  },
  {
   "cell_type": "markdown",
   "metadata": {},
   "source": [
    "Cross Validation:"
   ]
  },
  {
   "cell_type": "code",
   "execution_count": 58,
   "metadata": {},
   "outputs": [
    {
     "data": {
      "text/plain": [
       "array([0.63, 0.48, 0.53, 0.51, 0.52, 0.52, 0.51, 0.49, 0.5 , 0.79])"
      ]
     },
     "metadata": {},
     "output_type": "display_data"
    },
    {
     "name": "stdout",
     "output_type": "stream",
     "text": [
      "The mean score for cross validation is 0.5485400916355415\n"
     ]
    }
   ],
   "source": [
    "# cv=10 because it's been scientifically demonstrated that value is optimum for classification\n",
    "# scoring is set to accuracy since accuracy is the evaluation matrix \n",
    "scoresnb = cross_val_score(nbModel, X, y, cv=10, scoring='accuracy')\n",
    "display(scoresnb)\n",
    "print(\"The mean score for cross validation is %s\"%(scoresnb.mean()))"
   ]
  },
  {
   "cell_type": "markdown",
   "metadata": {},
   "source": [
    "Confusion matrix heatmap"
   ]
  },
  {
   "cell_type": "code",
   "execution_count": 60,
   "metadata": {},
   "outputs": [
    {
     "data": {
      "text/plain": [
       "array([[3747,   55],\n",
       "       [3544,  629]])"
      ]
     },
     "metadata": {},
     "output_type": "display_data"
    },
    {
     "data": {
      "image/png": "[encoded data removed]",
      "text/plain": [
       "<Figure size 540x360 with 2 Axes>"
      ]
     },
     "metadata": {
      "needs_background": "light"
     },
     "output_type": "display_data"
    }
   ],
   "source": [
    "cmnb=confusion_matrix(y_test, ynb_pred_test)\n",
    "display(cmnb)\n",
    "confusionMatrixHeatmap(cmnb, labl)"
   ]
  },
  {
   "cell_type": "markdown",
   "metadata": {},
   "source": [
    "Without Outliers:"
   ]
  },
  {
   "cell_type": "code",
   "execution_count": 61,
   "metadata": {},
   "outputs": [
    {
     "data": {
      "text/plain": [
       "'The accuracy is:'"
      ]
     },
     "metadata": {},
     "output_type": "display_data"
    },
    {
     "data": {
      "text/plain": [
       "0.3032149217358703"
      ]
     },
     "metadata": {},
     "output_type": "display_data"
    }
   ],
   "source": [
    "nbOutModel=GaussianNB()\n",
    "nbOutModel.fit(XOut_train, yOut_train)\n",
    "yOut_pred_test_nb=nbOutModel.predict(XOut_test)\n",
    "display('The accuracy is:')\n",
    "display(metrics.accuracy_score(yOut_test, yOut_pred_test_nb))"
   ]
  },
  {
   "cell_type": "markdown",
   "metadata": {},
   "source": [
    "## Decision Tree"
   ]
  },
  {
   "cell_type": "markdown",
   "metadata": {},
   "source": [
    "With outliers:"
   ]
  },
  {
   "cell_type": "code",
   "execution_count": 62,
   "metadata": {},
   "outputs": [
    {
     "data": {
      "text/plain": [
       "'The accuracy is: '"
      ]
     },
     "metadata": {},
     "output_type": "display_data"
    },
    {
     "data": {
      "text/plain": [
       "0.6574294670846395"
      ]
     },
     "metadata": {},
     "output_type": "display_data"
    }
   ],
   "source": [
    "dtModel=tree.DecisionTreeClassifier(min_samples_leaf=100, random_state=10)\n",
    "dtModel.fit(X_train,y_train)\n",
    "y_pred_test_dt=dtModel.predict(X_test)\n",
    "display('The accuracy is: ')\n",
    "display(metrics.accuracy_score(y_test, y_pred_test_dt))"
   ]
  },
  {
   "cell_type": "code",
   "execution_count": 63,
   "metadata": {},
   "outputs": [
    {
     "data": {
      "text/plain": [
       "array([[2623, 1179],\n",
       "       [1553, 2620]])"
      ]
     },
     "metadata": {},
     "output_type": "display_data"
    },
    {
     "data": {
      "image/png": "[encoded data removed]",
      "text/plain": [
       "<Figure size 540x360 with 2 Axes>"
      ]
     },
     "metadata": {
      "needs_background": "light"
     },
     "output_type": "display_data"
    }
   ],
   "source": [
    "cmdt=confusion_matrix(y_test, y_pred_test_dt)\n",
    "display(cmdt)\n",
    "confusionMatrixHeatmap(cmdt, labl)"
   ]
  },
  {
   "cell_type": "markdown",
   "metadata": {},
   "source": [
    "Without outliers"
   ]
  },
  {
   "cell_type": "code",
   "execution_count": 64,
   "metadata": {},
   "outputs": [
    {
     "data": {
      "text/plain": [
       "'The accuracy is: '"
      ]
     },
     "metadata": {},
     "output_type": "display_data"
    },
    {
     "data": {
      "text/plain": [
       "0.3508295060455525"
      ]
     },
     "metadata": {},
     "output_type": "display_data"
    }
   ],
   "source": [
    "dtOutModel=tree.DecisionTreeClassifier()\n",
    "dtOutModel.fit(XOut_train,yOut_train)\n",
    "yOut_pred_test_dt=dtOutModel.predict(XOut_test)\n",
    "display('The accuracy is: ')\n",
    "display(metrics.accuracy_score(yOut_test, yOut_pred_test_dt))"
   ]
  },
  {
   "cell_type": "markdown",
   "metadata": {},
   "source": [
    "## Random Forest"
   ]
  },
  {
   "cell_type": "markdown",
   "metadata": {},
   "source": [
    "With Outliers:"
   ]
  },
  {
   "cell_type": "markdown",
   "metadata": {},
   "source": [
    "Grid Search:"
   ]
  },
  {
   "cell_type": "code",
   "execution_count": 65,
   "metadata": {},
   "outputs": [
    {
     "name": "stdout",
     "output_type": "stream",
     "text": [
      "The parameters combination that would give best accuracy is : \n",
      "{'criterion': 'entropy', 'min_samples_leaf': 10, 'min_samples_split': 6, 'n_estimators': 100}\n"
     ]
    }
   ],
   "source": [
    "rfModel=RandomForestClassifier()\n",
    "parametersrf={'n_estimators': [10,50,100,125,150], \n",
    "               'criterion': ['gini', 'entropy'],\n",
    "             'min_samples_split' : [2, 4, 6, 8, 15, 30],\n",
    "             'min_samples_leaf': [10, 20, 50, 100, 150]}\n",
    "GSrf= GridSearchCV(rfModel, parametersrf, n_jobs=-1)\n",
    "GSrf.fit(X_train, y_train)\n",
    "print('The parameters combination that would give best accuracy is : ')\n",
    "print(GSrf.best_params_)"
   ]
  },
  {
   "cell_type": "code",
   "execution_count": 66,
   "metadata": {},
   "outputs": [
    {
     "data": {
      "text/plain": [
       "'The accuracy is: '"
      ]
     },
     "metadata": {},
     "output_type": "display_data"
    },
    {
     "data": {
      "text/plain": [
       "0.6732288401253919"
      ]
     },
     "metadata": {},
     "output_type": "display_data"
    }
   ],
   "source": [
    "rfModel=RandomForestClassifier(n_estimators=100, criterion='entropy', \n",
    "                               min_samples_split=6, min_samples_leaf=10\n",
    "                              , n_jobs=-1)\n",
    "rfModel.fit(X_train, y_train)\n",
    "y_pred_test_rf=rfModel.predict(X_test)\n",
    "display('The accuracy is: ')\n",
    "display(metrics.accuracy_score(y_test, y_pred_test_rf))"
   ]
  },
  {
   "cell_type": "markdown",
   "metadata": {},
   "source": [
    "Cross validation:"
   ]
  },
  {
   "cell_type": "code",
   "execution_count": 67,
   "metadata": {},
   "outputs": [
    {
     "name": "stdout",
     "output_type": "stream",
     "text": [
      "The mean score for cross validation is 0.6724085471110318\n"
     ]
    }
   ],
   "source": [
    "# cv=10 because it's been scientifically demonstrated that value is optimum for classification\n",
    "# scoring is set to accuracy since accuracy is the evaluation matrix \n",
    "scoresrf = cross_val_score(rfModel, X, y, cv=10, scoring='accuracy')\n",
    "print(\"The mean score for cross validation is %s\"%(scoresrf.mean()))"
   ]
  },
  {
   "cell_type": "markdown",
   "metadata": {},
   "source": [
    "Confusion matrix:"
   ]
  },
  {
   "cell_type": "code",
   "execution_count": 69,
   "metadata": {},
   "outputs": [
    {
     "data": {
      "text/plain": [
       "array([[2733, 1069],\n",
       "       [1537, 2636]])"
      ]
     },
     "metadata": {},
     "output_type": "display_data"
    },
    {
     "data": {
      "image/png": "[encoded data removed]",
      "text/plain": [
       "<Figure size 540x360 with 2 Axes>"
      ]
     },
     "metadata": {
      "needs_background": "light"
     },
     "output_type": "display_data"
    }
   ],
   "source": [
    "cmcf=confusion_matrix(y_test, y_pred_test_rf)\n",
    "display(cmcf)\n",
    "confusionMatrixHeatmap(cmcf, labl)"
   ]
  },
  {
   "cell_type": "markdown",
   "metadata": {},
   "source": [
    "Recursive Feature Elimination - Cross Validated:"
   ]
  },
  {
   "cell_type": "code",
   "execution_count": 77,
   "metadata": {
    "scrolled": true
   },
   "outputs": [
    {
     "name": "stdout",
     "output_type": "stream",
     "text": [
      "[ True  True  True  True  True  True  True  True  True  True  True False\n",
      "  True False False False False False False False False False False False\n",
      " False  True False False False False  True False False False False  True\n",
      " False False False False]\n",
      "[1 1 1 1 1 1 1 1 1 1 1 2 1 3 5 2 6 5 6 3 4 5 4 5 2 1 6 2 3 4 1 6 4 3 5 1 4\n",
      " 3 2 6]\n"
     ]
    }
   ],
   "source": [
    "rfecv = RFECV(rfModel, 5)\n",
    "rfecv.fit(X_train, y_train)\n",
    "# summarize the selection of the attributes\n",
    "print(rfecv.support_)\n",
    "print(rfecv.ranking_)"
   ]
  },
  {
   "cell_type": "code",
   "execution_count": 79,
   "metadata": {},
   "outputs": [
    {
     "data": {
      "text/plain": [
       "0.6767398119122257"
      ]
     },
     "execution_count": 79,
     "metadata": {},
     "output_type": "execute_result"
    }
   ],
   "source": [
    "rfecv.score(X_test, y_test)"
   ]
  },
  {
   "cell_type": "markdown",
   "metadata": {},
   "source": [
    "It slightly improves de accuracy by around 0.004"
   ]
  },
  {
   "cell_type": "markdown",
   "metadata": {},
   "source": [
    "Recursive Feature Elimination:"
   ]
  },
  {
   "cell_type": "code",
   "execution_count": 80,
   "metadata": {},
   "outputs": [
    {
     "name": "stdout",
     "output_type": "stream",
     "text": [
      "[ True False  True  True  True False False  True False False False False\n",
      " False False False False False False False False False False False False\n",
      " False False False False False False False False False False False False\n",
      " False False False False]\n",
      "[ 1  2  1  1  1  8  7  1 10  4  5 12  3 20 27 15 32 31 36 16 22 28 23 30\n",
      " 13  9 34 14 19 29  6 33 24 21 25 11 26 18 17 35]\n"
     ]
    }
   ],
   "source": [
    "rfe = RFE(rfModel, 5)\n",
    "rfe.fit(X_train, y_train)\n",
    "# summarize the selection of the attributes\n",
    "print(rfe.support_)\n",
    "print(rfe.ranking_)"
   ]
  },
  {
   "cell_type": "code",
   "execution_count": 81,
   "metadata": {},
   "outputs": [
    {
     "data": {
      "text/plain": [
       "0.6494043887147335"
      ]
     },
     "execution_count": 81,
     "metadata": {},
     "output_type": "execute_result"
    }
   ],
   "source": [
    "rfe.score(X_test, y_test)"
   ]
  },
  {
   "cell_type": "markdown",
   "metadata": {},
   "source": [
    "It didn't improve the results"
   ]
  },
  {
   "cell_type": "markdown",
   "metadata": {},
   "source": [
    "#### PCA"
   ]
  },
  {
   "cell_type": "code",
   "execution_count": 85,
   "metadata": {},
   "outputs": [
    {
     "data": {
      "text/plain": [
       "(71770, 7975, 71770, 7975)"
      ]
     },
     "execution_count": 85,
     "metadata": {},
     "output_type": "execute_result"
    }
   ],
   "source": [
    "pca=PCA(n_components=5)\n",
    "principalComponents=pca.fit_transform(X)\n",
    "df_pca=pd.DataFrame(data=principalComponents, \n",
    "                    columns=['pc1','pc2','pc3','pc4','pc5'])\n",
    "Xpca=df_pca\n",
    "ypca=y\n",
    "Xpca_train, Xpca_test, ypca_train, ypca_test = train_test_split(Xpca,ypca,test_size=0.1)\n",
    "len(Xpca_train), len(Xpca_test), len(ypca_train), len(ypca_test)"
   ]
  },
  {
   "cell_type": "code",
   "execution_count": 86,
   "metadata": {},
   "outputs": [
    {
     "data": {
      "text/plain": [
       "'The accuracy is: '"
      ]
     },
     "metadata": {},
     "output_type": "display_data"
    },
    {
     "data": {
      "text/plain": [
       "0.630846394984326"
      ]
     },
     "metadata": {},
     "output_type": "display_data"
    }
   ],
   "source": [
    "rfpcaModel=RandomForestClassifier(n_estimators=100, criterion='entropy', \n",
    "                               min_samples_split=6, min_samples_leaf=10\n",
    "                              , n_jobs=-1)\n",
    "rfpcaModel.fit(Xpca_train, ypca_train)\n",
    "ypca_pred_test_rf=rfpcaModel.predict(Xpca_test)\n",
    "display('The accuracy is: ')\n",
    "display(metrics.accuracy_score(ypca_test, ypca_pred_test_rf))"
   ]
  },
  {
   "cell_type": "markdown",
   "metadata": {},
   "source": [
    "It didn't improve the results"
   ]
  },
  {
   "cell_type": "markdown",
   "metadata": {},
   "source": [
    "Without Outliers:"
   ]
  },
  {
   "cell_type": "code",
   "execution_count": 87,
   "metadata": {},
   "outputs": [
    {
     "data": {
      "text/plain": [
       "'The score is: '"
      ]
     },
     "metadata": {},
     "output_type": "display_data"
    },
    {
     "data": {
      "text/plain": [
       "0.34511200674852377"
      ]
     },
     "metadata": {},
     "output_type": "display_data"
    },
    {
     "data": {
      "text/plain": [
       "'The accuracy is: '"
      ]
     },
     "metadata": {},
     "output_type": "display_data"
    },
    {
     "data": {
      "text/plain": [
       "0.34511200674852377"
      ]
     },
     "metadata": {},
     "output_type": "display_data"
    }
   ],
   "source": [
    "rfOutModel=RandomForestClassifier()\n",
    "rfOutModel.fit(XOut_train, yOut_train)\n",
    "display('The score is: ')\n",
    "display(rfOutModel.score(XOut_test, yOut_test))\n",
    "yOut_pred_test_rf=rfOutModel.predict(XOut_test)\n",
    "display('The accuracy is: ')\n",
    "display(metrics.accuracy_score(yOut_test, yOut_pred_test_rf))"
   ]
  },
  {
   "cell_type": "markdown",
   "metadata": {},
   "source": [
    "## K Nearest Neighbours"
   ]
  },
  {
   "cell_type": "markdown",
   "metadata": {},
   "source": [
    "With Outliers:"
   ]
  },
  {
   "cell_type": "code",
   "execution_count": 88,
   "metadata": {},
   "outputs": [
    {
     "data": {
      "text/plain": [
       "'The accuracy is: '"
      ]
     },
     "metadata": {},
     "output_type": "display_data"
    },
    {
     "data": {
      "text/plain": [
       "0.6267084639498433"
      ]
     },
     "metadata": {},
     "output_type": "display_data"
    }
   ],
   "source": [
    "knnModel=KNeighborsClassifier(n_neighbors=6)\n",
    "knnModel.fit(X_train, y_train)\n",
    "y_pred_test_knn=knnModel.predict(X_test)\n",
    "display('The accuracy is: ')\n",
    "display(metrics.accuracy_score(y_test, y_pred_test_knn))"
   ]
  },
  {
   "cell_type": "markdown",
   "metadata": {},
   "source": [
    "Without Outliers:"
   ]
  },
  {
   "cell_type": "code",
   "execution_count": 90,
   "metadata": {},
   "outputs": [
    {
     "data": {
      "text/plain": [
       "'The accuracy is: '"
      ]
     },
     "metadata": {},
     "output_type": "display_data"
    },
    {
     "data": {
      "text/plain": [
       "0.34286249882838127"
      ]
     },
     "metadata": {},
     "output_type": "display_data"
    }
   ],
   "source": [
    "knnOutModel=KNeighborsClassifier(n_neighbors=6)\n",
    "knnOutModel.fit(XOut_train, yOut_train)\n",
    "yOut_pred_test_knn=knnOutModel.predict(XOut_test)\n",
    "display('The accuracy is: ')\n",
    "display(metrics.accuracy_score(yOut_test, yOut_pred_test_knn))"
   ]
  },
  {
   "cell_type": "code",
   "execution_count": 91,
   "metadata": {
    "scrolled": false
   },
   "outputs": [
    {
     "data": {
      "text/plain": [
       "array([[2879,  923],\n",
       "       [2054, 2119]])"
      ]
     },
     "metadata": {},
     "output_type": "display_data"
    },
    {
     "data": {
      "image/png": "[encoded data removed]",
      "text/plain": [
       "<Figure size 540x360 with 2 Axes>"
      ]
     },
     "metadata": {
      "needs_background": "light"
     },
     "output_type": "display_data"
    }
   ],
   "source": [
    "cmknn=confusion_matrix(y_test, y_pred_test_knn)\n",
    "display(cmknn)\n",
    "confusionMatrixHeatmap(cmknn, labl)"
   ]
  },
  {
   "cell_type": "markdown",
   "metadata": {},
   "source": [
    "#### Cross validation"
   ]
  },
  {
   "cell_type": "code",
   "execution_count": 92,
   "metadata": {},
   "outputs": [
    {
     "name": "stdout",
     "output_type": "stream",
     "text": [
      "The mean score for cross validation is 0.6171321429518646\n"
     ]
    }
   ],
   "source": [
    "# cv=10 because it's been scientifically demonstrated that value is optimum for classification\n",
    "# scoring is set to accuracy since accuracy is the evaluation matrix \n",
    "scoresknn = cross_val_score(knnModel, X, y, cv=10, scoring='accuracy')\n",
    "print(\"The mean score for cross validation is %s\"%(scoresknn.mean()))"
   ]
  },
  {
   "cell_type": "markdown",
   "metadata": {},
   "source": [
    "## Two-class AdaBoost"
   ]
  },
  {
   "cell_type": "code",
   "execution_count": 95,
   "metadata": {},
   "outputs": [
    {
     "data": {
      "text/plain": [
       "'The accuracy is: '"
      ]
     },
     "metadata": {},
     "output_type": "display_data"
    },
    {
     "data": {
      "text/plain": [
       "0.6519122257053291"
      ]
     },
     "metadata": {},
     "output_type": "display_data"
    }
   ],
   "source": [
    "bdt = AdaBoostClassifier(RandomForestClassifier(n_estimators=100, criterion='entropy', \n",
    "                               min_samples_split=6, min_samples_leaf=10\n",
    "                              , n_jobs=-1),\n",
    "                         algorithm=\"SAMME\",\n",
    "                         n_estimators=200)\n",
    "bdt.fit(X_train,y_train)\n",
    "y_pred_test_bdt= bdt.predict(X_test)\n",
    "display('The accuracy is: ')\n",
    "display(metrics.accuracy_score(y_test, y_pred_test_bdt))"
   ]
  },
  {
   "cell_type": "code",
   "execution_count": 96,
   "metadata": {
    "scrolled": false
   },
   "outputs": [
    {
     "data": {
      "text/plain": [
       "array([[2106, 1696],\n",
       "       [1080, 3093]])"
      ]
     },
     "metadata": {},
     "output_type": "display_data"
    },
    {
     "data": {
      "image/png": "[encoded data removed]",
      "text/plain": [
       "<Figure size 540x360 with 2 Axes>"
      ]
     },
     "metadata": {
      "needs_background": "light"
     },
     "output_type": "display_data"
    }
   ],
   "source": [
    "cmbdt=confusion_matrix(y_test, y_pred_test_bdt)\n",
    "display(cmbdt)\n",
    "confusionMatrixHeatmap(cmbdt, labl)"
   ]
  },
  {
   "cell_type": "markdown",
   "metadata": {},
   "source": [
    "## We can conclude that the model that better fit our data is the Random Forest Model with a 67% accuracy"
   ]
  }
 ],
 "metadata": {
  "kernelspec": {
   "display_name": "Python 3",
   "language": "python",
   "name": "python3"
  },
  "language_info": {
   "codemirror_mode": {
    "name": "ipython",
    "version": 3
   },
   "file_extension": ".py",
   "mimetype": "text/x-python",
   "name": "python",
   "nbconvert_exporter": "python",
   "pygments_lexer": "ipython3",
   "version": "3.6.6"
  }
 },
 "nbformat": 4,
 "nbformat_minor": 2
}
