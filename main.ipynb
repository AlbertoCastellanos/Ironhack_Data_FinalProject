{
 "cells": [
  {
   "cell_type": "markdown",
   "metadata": {},
   "source": [
    "# Final Project - Ironhack Data Analytics Bootcamp\n",
    "# Spotify Prediction Model"
   ]
  },
  {
   "cell_type": "markdown",
   "metadata": {},
   "source": [
    "The below code uses a dataset obtained from the Spotify API that includes registers for over 100k songs and their audio features along with a popularity value. The model built for this project aims to predict how popular a song will be based on its audio features. "
   ]
  },
  {
   "cell_type": "markdown",
   "metadata": {},
   "source": [
    "#### Importing the packages to be used"
   ]
  },
  {
   "cell_type": "code",
   "execution_count": 77,
   "metadata": {},
   "outputs": [],
   "source": [
    "import numpy as np\n",
    "import pandas as pd\n",
    "import matplotlib.pyplot as plt\n",
    "import seaborn as sns\n",
    "import math\n",
    "from sklearn.model_selection import train_test_split\n",
    "from sklearn import linear_model\n",
    "from sklearn.linear_model import LogisticRegression\n",
    "from sklearn.svm import SVC\n",
    "from sklearn.ensemble import RandomForestClassifier\n",
    "from sklearn.metrics import confusion_matrix\n",
    "from sklearn import tree\n",
    "from sklearn.neighbors import KNeighborsClassifier\n",
    "from sklearn import metrics\n",
    "from sklearn.model_selection import cross_val_score"
   ]
  },
  {
   "cell_type": "markdown",
   "metadata": {},
   "source": [
    "#### Importing the dataset"
   ]
  },
  {
   "cell_type": "code",
   "execution_count": 2,
   "metadata": {},
   "outputs": [],
   "source": [
    "spotify=pd.read_csv('./data/SpotifyAudioFeaturesNov2018.csv')"
   ]
  },
  {
   "cell_type": "markdown",
   "metadata": {},
   "source": [
    "## Data Exploration"
   ]
  },
  {
   "cell_type": "markdown",
   "metadata": {},
   "source": [
    "A general overview of the data is necessary for a proper understanding"
   ]
  },
  {
   "cell_type": "code",
   "execution_count": 3,
   "metadata": {
    "scrolled": true
   },
   "outputs": [
    {
     "data": {
      "text/html": [
       "<div>\n",
       "<style scoped>\n",
       "    .dataframe tbody tr th:only-of-type {\n",
       "        vertical-align: middle;\n",
       "    }\n",
       "\n",
       "    .dataframe tbody tr th {\n",
       "        vertical-align: top;\n",
       "    }\n",
       "\n",
       "    .dataframe thead th {\n",
       "        text-align: right;\n",
       "    }\n",
       "</style>\n",
       "<table border=\"1\" class=\"dataframe\">\n",
       "  <thead>\n",
       "    <tr style=\"text-align: right;\">\n",
       "      <th></th>\n",
       "      <th>artist_name</th>\n",
       "      <th>track_id</th>\n",
       "      <th>track_name</th>\n",
       "      <th>acousticness</th>\n",
       "      <th>danceability</th>\n",
       "      <th>duration_ms</th>\n",
       "      <th>energy</th>\n",
       "      <th>instrumentalness</th>\n",
       "      <th>key</th>\n",
       "      <th>liveness</th>\n",
       "      <th>loudness</th>\n",
       "      <th>mode</th>\n",
       "      <th>speechiness</th>\n",
       "      <th>tempo</th>\n",
       "      <th>time_signature</th>\n",
       "      <th>valence</th>\n",
       "      <th>popularity</th>\n",
       "    </tr>\n",
       "  </thead>\n",
       "  <tbody>\n",
       "    <tr>\n",
       "      <th>0</th>\n",
       "      <td>YG</td>\n",
       "      <td>2RM4jf1Xa9zPgMGRDiht8O</td>\n",
       "      <td>Big Bank feat. 2 Chainz, Big Sean, Nicki Minaj</td>\n",
       "      <td>0.005820</td>\n",
       "      <td>0.743</td>\n",
       "      <td>238373</td>\n",
       "      <td>0.339</td>\n",
       "      <td>0.000</td>\n",
       "      <td>1</td>\n",
       "      <td>0.0812</td>\n",
       "      <td>-7.678</td>\n",
       "      <td>1</td>\n",
       "      <td>0.4090</td>\n",
       "      <td>203.927</td>\n",
       "      <td>4</td>\n",
       "      <td>0.118</td>\n",
       "      <td>44</td>\n",
       "    </tr>\n",
       "    <tr>\n",
       "      <th>1</th>\n",
       "      <td>YG</td>\n",
       "      <td>1tHDG53xJNGsItRA3vfVgs</td>\n",
       "      <td>BAND DRUM (feat. A$AP Rocky)</td>\n",
       "      <td>0.024400</td>\n",
       "      <td>0.846</td>\n",
       "      <td>214800</td>\n",
       "      <td>0.557</td>\n",
       "      <td>0.000</td>\n",
       "      <td>8</td>\n",
       "      <td>0.2860</td>\n",
       "      <td>-7.259</td>\n",
       "      <td>1</td>\n",
       "      <td>0.4570</td>\n",
       "      <td>159.009</td>\n",
       "      <td>4</td>\n",
       "      <td>0.371</td>\n",
       "      <td>10</td>\n",
       "    </tr>\n",
       "    <tr>\n",
       "      <th>2</th>\n",
       "      <td>R3HAB</td>\n",
       "      <td>6Wosx2euFPMT14UXiWudMy</td>\n",
       "      <td>Radio Silence</td>\n",
       "      <td>0.025000</td>\n",
       "      <td>0.603</td>\n",
       "      <td>138913</td>\n",
       "      <td>0.723</td>\n",
       "      <td>0.000</td>\n",
       "      <td>9</td>\n",
       "      <td>0.0824</td>\n",
       "      <td>-5.890</td>\n",
       "      <td>0</td>\n",
       "      <td>0.0454</td>\n",
       "      <td>114.966</td>\n",
       "      <td>4</td>\n",
       "      <td>0.382</td>\n",
       "      <td>63</td>\n",
       "    </tr>\n",
       "    <tr>\n",
       "      <th>3</th>\n",
       "      <td>Chris Cooq</td>\n",
       "      <td>3J2Jpw61sO7l6Hc7qdYV91</td>\n",
       "      <td>Lactose</td>\n",
       "      <td>0.029400</td>\n",
       "      <td>0.800</td>\n",
       "      <td>125381</td>\n",
       "      <td>0.579</td>\n",
       "      <td>0.912</td>\n",
       "      <td>5</td>\n",
       "      <td>0.0994</td>\n",
       "      <td>-12.118</td>\n",
       "      <td>0</td>\n",
       "      <td>0.0701</td>\n",
       "      <td>123.003</td>\n",
       "      <td>4</td>\n",
       "      <td>0.641</td>\n",
       "      <td>9</td>\n",
       "    </tr>\n",
       "    <tr>\n",
       "      <th>4</th>\n",
       "      <td>Chris Cooq</td>\n",
       "      <td>2jbYvQCyPgX3CdmAzeVeuS</td>\n",
       "      <td>Same - Original mix</td>\n",
       "      <td>0.000035</td>\n",
       "      <td>0.783</td>\n",
       "      <td>124016</td>\n",
       "      <td>0.792</td>\n",
       "      <td>0.878</td>\n",
       "      <td>7</td>\n",
       "      <td>0.0332</td>\n",
       "      <td>-10.277</td>\n",
       "      <td>1</td>\n",
       "      <td>0.0661</td>\n",
       "      <td>120.047</td>\n",
       "      <td>4</td>\n",
       "      <td>0.928</td>\n",
       "      <td>8</td>\n",
       "    </tr>\n",
       "  </tbody>\n",
       "</table>\n",
       "</div>"
      ],
      "text/plain": [
       "  artist_name                track_id  \\\n",
       "0          YG  2RM4jf1Xa9zPgMGRDiht8O   \n",
       "1          YG  1tHDG53xJNGsItRA3vfVgs   \n",
       "2       R3HAB  6Wosx2euFPMT14UXiWudMy   \n",
       "3  Chris Cooq  3J2Jpw61sO7l6Hc7qdYV91   \n",
       "4  Chris Cooq  2jbYvQCyPgX3CdmAzeVeuS   \n",
       "\n",
       "                                       track_name  acousticness  danceability  \\\n",
       "0  Big Bank feat. 2 Chainz, Big Sean, Nicki Minaj      0.005820         0.743   \n",
       "1                    BAND DRUM (feat. A$AP Rocky)      0.024400         0.846   \n",
       "2                                   Radio Silence      0.025000         0.603   \n",
       "3                                         Lactose      0.029400         0.800   \n",
       "4                             Same - Original mix      0.000035         0.783   \n",
       "\n",
       "   duration_ms  energy  instrumentalness  key  liveness  loudness  mode  \\\n",
       "0       238373   0.339             0.000    1    0.0812    -7.678     1   \n",
       "1       214800   0.557             0.000    8    0.2860    -7.259     1   \n",
       "2       138913   0.723             0.000    9    0.0824    -5.890     0   \n",
       "3       125381   0.579             0.912    5    0.0994   -12.118     0   \n",
       "4       124016   0.792             0.878    7    0.0332   -10.277     1   \n",
       "\n",
       "   speechiness    tempo  time_signature  valence  popularity  \n",
       "0       0.4090  203.927               4    0.118          44  \n",
       "1       0.4570  159.009               4    0.371          10  \n",
       "2       0.0454  114.966               4    0.382          63  \n",
       "3       0.0701  123.003               4    0.641           9  \n",
       "4       0.0661  120.047               4    0.928           8  "
      ]
     },
     "execution_count": 3,
     "metadata": {},
     "output_type": "execute_result"
    }
   ],
   "source": [
    "spotify.head()"
   ]
  },
  {
   "cell_type": "markdown",
   "metadata": {},
   "source": [
    "The below is a description of the fields:\n",
    "\n",
    "FIELD|DESCRIPTION|\n",
    ":---|:---|\n",
    "**artist_name**|Author of the track\n",
    "**track_id**|The Spotify ID for the track\n",
    "**track_name**|Official name of the track\n",
    "**acousticness**|A confidence measure from 0.0 to 1.0 of whether the track is acoustic. 1.0 represents high confidence the track is acoustic.\n",
    "**danceability**|Danceability describes how suitable a track is for dancing based on a combination of musical elements including tempo, rhythm stability, beat strength, and overall regularity. A value of 0.0 is least danceable and 1.0 is most danceable. \n",
    "**duration_ms**|The duration of the track in milliseconds.\n",
    "**energy** |Energy is a measure from 0.0 to 1.0 and represents a perceptual measure of intensity and activity. Typically, energetic tracks feel fast, loud, and noisy. For example, death metal has high energy while a Bach prelude scores low on the scale. Perceptual features contributing to this attribute include dynamic range, perceived loudness, timbre, onset rate, and general entropy.\n",
    "**instrumentalness**|Predicts whether a track contains no vocals. “Ooh” and “aah” sounds are treated as instrumental in this context. Rap or spoken word tracks are clearly “vocal”. The closer the instrumentalness value is to 1.0, the greater likelihood the track contains no vocal content. Values above 0.5 are intended to represent instrumental tracks, but confidence is higher as the value approaches 1.0. \n",
    "**key**|The estimated overall key of the track. Integers map to pitches using standard Pitch Class notation . E.g. 0 = C, 1 = C♯/D♭, 2 = D, and so on. If no key was detected, the value is -1.\n",
    "**liveness**|Detects the presence of an audience in the recording. Higher liveness values represent an increased probability that the track was performed live. A value above 0.8 provides strong likelihood that the track is live.\n",
    "**loudness**|The overall loudness of a track in decibels (dB). Loudness values are averaged across the entire track and are useful for comparing relative loudness of tracks. Loudness is the quality of a sound that is the primary psychological correlate of physical strength (amplitude). Values typical range between -60 and 0 db.\n",
    "**mode**|Indicates the modality (major or minor) of a track, the type of scale from which its melodic content is derived. Major is represented by 1 and minor is 0.\n",
    "**speechiness**|Detects the presence of spoken words in a track. The more exclusively speech-like the recording (e.g. talk show, audio book, poetry), the closer to 1.0 the attribute value. Values above 0.66 describe tracks that are probably made entirely of spoken words. Values between 0.33 and 0.66 describe tracks that may contain both music and speech, either in sections or layered, including such cases as rap music. Values below 0.33 most likely represent music and other non-speech-like tracks. \n",
    "**tempo**|The overall estimated tempo of a track in beats per minute (BPM). In musical terminology, tempo is the speed or pace of a given piece and derives directly from the average beat duration.\n",
    "**time_signature**|An estimated overall time signature of a track. The time signature (meter) is a notational convention to specify how many beats are in each bar (or measure).\n",
    "**valence**|A measure from 0.0 to 1.0 describing the musical positiveness conveyed by a track. Tracks with high valence sound more positive (e.g. happy, cheerful, euphoric), while tracks with low valence sound more negative (e.g. sad, depressed, angry).\n",
    "\n",
    "\n"
   ]
  },
  {
   "cell_type": "markdown",
   "metadata": {},
   "source": [
    "#### Checking the feature data types in order to see if any conversion is needed"
   ]
  },
  {
   "cell_type": "code",
   "execution_count": 4,
   "metadata": {},
   "outputs": [
    {
     "data": {
      "text/plain": [
       "artist_name          object\n",
       "track_id             object\n",
       "track_name           object\n",
       "acousticness        float64\n",
       "danceability        float64\n",
       "duration_ms           int64\n",
       "energy              float64\n",
       "instrumentalness    float64\n",
       "key                   int64\n",
       "liveness            float64\n",
       "loudness            float64\n",
       "mode                  int64\n",
       "speechiness         float64\n",
       "tempo               float64\n",
       "time_signature        int64\n",
       "valence             float64\n",
       "popularity            int64\n",
       "dtype: object"
      ]
     },
     "execution_count": 4,
     "metadata": {},
     "output_type": "execute_result"
    }
   ],
   "source": [
    "spotify.dtypes"
   ]
  },
  {
   "cell_type": "markdown",
   "metadata": {},
   "source": [
    "We can see that just the columns \"artist_name\", \"track_id\", \"track_name\" are non-numerical columns, we might need to take an action on them in later stages. The rest of columns are numeric and are, in majority, normalized columns with a range between 0 to 1."
   ]
  },
  {
   "cell_type": "code",
   "execution_count": 5,
   "metadata": {},
   "outputs": [
    {
     "data": {
      "text/plain": [
       "artist_name         0\n",
       "track_id            0\n",
       "track_name          0\n",
       "acousticness        0\n",
       "danceability        0\n",
       "duration_ms         0\n",
       "energy              0\n",
       "instrumentalness    0\n",
       "key                 0\n",
       "liveness            0\n",
       "loudness            0\n",
       "mode                0\n",
       "speechiness         0\n",
       "tempo               0\n",
       "time_signature      0\n",
       "valence             0\n",
       "popularity          0\n",
       "dtype: int64"
      ]
     },
     "execution_count": 5,
     "metadata": {},
     "output_type": "execute_result"
    }
   ],
   "source": [
    "spotify.isna().sum()"
   ]
  },
  {
   "cell_type": "code",
   "execution_count": 6,
   "metadata": {},
   "outputs": [
    {
     "data": {
      "text/html": [
       "<div>\n",
       "<style scoped>\n",
       "    .dataframe tbody tr th:only-of-type {\n",
       "        vertical-align: middle;\n",
       "    }\n",
       "\n",
       "    .dataframe tbody tr th {\n",
       "        vertical-align: top;\n",
       "    }\n",
       "\n",
       "    .dataframe thead th {\n",
       "        text-align: right;\n",
       "    }\n",
       "</style>\n",
       "<table border=\"1\" class=\"dataframe\">\n",
       "  <thead>\n",
       "    <tr style=\"text-align: right;\">\n",
       "      <th></th>\n",
       "      <th>acousticness</th>\n",
       "      <th>danceability</th>\n",
       "      <th>duration_ms</th>\n",
       "      <th>energy</th>\n",
       "      <th>instrumentalness</th>\n",
       "      <th>key</th>\n",
       "      <th>liveness</th>\n",
       "      <th>loudness</th>\n",
       "      <th>mode</th>\n",
       "      <th>speechiness</th>\n",
       "      <th>tempo</th>\n",
       "      <th>time_signature</th>\n",
       "      <th>valence</th>\n",
       "      <th>popularity</th>\n",
       "    </tr>\n",
       "  </thead>\n",
       "  <tbody>\n",
       "    <tr>\n",
       "      <th>count</th>\n",
       "      <td>116372.000000</td>\n",
       "      <td>116372.000000</td>\n",
       "      <td>1.163720e+05</td>\n",
       "      <td>116372.000000</td>\n",
       "      <td>116372.000000</td>\n",
       "      <td>116372.000000</td>\n",
       "      <td>116372.000000</td>\n",
       "      <td>116372.000000</td>\n",
       "      <td>116372.000000</td>\n",
       "      <td>116372.000000</td>\n",
       "      <td>116372.000000</td>\n",
       "      <td>116372.000000</td>\n",
       "      <td>116372.000000</td>\n",
       "      <td>116372.000000</td>\n",
       "    </tr>\n",
       "    <tr>\n",
       "      <th>mean</th>\n",
       "      <td>0.335472</td>\n",
       "      <td>0.582476</td>\n",
       "      <td>2.125462e+05</td>\n",
       "      <td>0.571829</td>\n",
       "      <td>0.230127</td>\n",
       "      <td>5.239894</td>\n",
       "      <td>0.194196</td>\n",
       "      <td>-9.944835</td>\n",
       "      <td>0.607534</td>\n",
       "      <td>0.112204</td>\n",
       "      <td>119.603767</td>\n",
       "      <td>3.883005</td>\n",
       "      <td>0.438393</td>\n",
       "      <td>24.235082</td>\n",
       "    </tr>\n",
       "    <tr>\n",
       "      <th>std</th>\n",
       "      <td>0.343066</td>\n",
       "      <td>0.189869</td>\n",
       "      <td>1.243208e+05</td>\n",
       "      <td>0.258560</td>\n",
       "      <td>0.363406</td>\n",
       "      <td>3.603924</td>\n",
       "      <td>0.167389</td>\n",
       "      <td>6.503818</td>\n",
       "      <td>0.488302</td>\n",
       "      <td>0.124382</td>\n",
       "      <td>30.151621</td>\n",
       "      <td>0.508566</td>\n",
       "      <td>0.259566</td>\n",
       "      <td>17.931939</td>\n",
       "    </tr>\n",
       "    <tr>\n",
       "      <th>min</th>\n",
       "      <td>0.000000</td>\n",
       "      <td>0.000000</td>\n",
       "      <td>3.203000e+03</td>\n",
       "      <td>0.000000</td>\n",
       "      <td>0.000000</td>\n",
       "      <td>0.000000</td>\n",
       "      <td>0.000000</td>\n",
       "      <td>-60.000000</td>\n",
       "      <td>0.000000</td>\n",
       "      <td>0.000000</td>\n",
       "      <td>0.000000</td>\n",
       "      <td>0.000000</td>\n",
       "      <td>0.000000</td>\n",
       "      <td>0.000000</td>\n",
       "    </tr>\n",
       "    <tr>\n",
       "      <th>25%</th>\n",
       "      <td>0.029500</td>\n",
       "      <td>0.461000</td>\n",
       "      <td>1.640490e+05</td>\n",
       "      <td>0.401000</td>\n",
       "      <td>0.000000</td>\n",
       "      <td>2.000000</td>\n",
       "      <td>0.097400</td>\n",
       "      <td>-11.845250</td>\n",
       "      <td>0.000000</td>\n",
       "      <td>0.038900</td>\n",
       "      <td>96.131000</td>\n",
       "      <td>4.000000</td>\n",
       "      <td>0.222000</td>\n",
       "      <td>10.000000</td>\n",
       "    </tr>\n",
       "    <tr>\n",
       "      <th>50%</th>\n",
       "      <td>0.194000</td>\n",
       "      <td>0.606000</td>\n",
       "      <td>2.017730e+05</td>\n",
       "      <td>0.605000</td>\n",
       "      <td>0.000187</td>\n",
       "      <td>5.000000</td>\n",
       "      <td>0.123000</td>\n",
       "      <td>-7.992000</td>\n",
       "      <td>1.000000</td>\n",
       "      <td>0.056000</td>\n",
       "      <td>120.031500</td>\n",
       "      <td>4.000000</td>\n",
       "      <td>0.419000</td>\n",
       "      <td>22.000000</td>\n",
       "    </tr>\n",
       "    <tr>\n",
       "      <th>75%</th>\n",
       "      <td>0.620000</td>\n",
       "      <td>0.728000</td>\n",
       "      <td>2.402685e+05</td>\n",
       "      <td>0.776000</td>\n",
       "      <td>0.491000</td>\n",
       "      <td>8.000000</td>\n",
       "      <td>0.234000</td>\n",
       "      <td>-5.701000</td>\n",
       "      <td>1.000000</td>\n",
       "      <td>0.129000</td>\n",
       "      <td>139.783000</td>\n",
       "      <td>4.000000</td>\n",
       "      <td>0.637000</td>\n",
       "      <td>35.000000</td>\n",
       "    </tr>\n",
       "    <tr>\n",
       "      <th>max</th>\n",
       "      <td>0.996000</td>\n",
       "      <td>0.996000</td>\n",
       "      <td>5.610020e+06</td>\n",
       "      <td>1.000000</td>\n",
       "      <td>1.000000</td>\n",
       "      <td>11.000000</td>\n",
       "      <td>0.999000</td>\n",
       "      <td>1.806000</td>\n",
       "      <td>1.000000</td>\n",
       "      <td>0.966000</td>\n",
       "      <td>249.983000</td>\n",
       "      <td>5.000000</td>\n",
       "      <td>1.000000</td>\n",
       "      <td>100.000000</td>\n",
       "    </tr>\n",
       "  </tbody>\n",
       "</table>\n",
       "</div>"
      ],
      "text/plain": [
       "        acousticness   danceability   duration_ms         energy  \\\n",
       "count  116372.000000  116372.000000  1.163720e+05  116372.000000   \n",
       "mean        0.335472       0.582476  2.125462e+05       0.571829   \n",
       "std         0.343066       0.189869  1.243208e+05       0.258560   \n",
       "min         0.000000       0.000000  3.203000e+03       0.000000   \n",
       "25%         0.029500       0.461000  1.640490e+05       0.401000   \n",
       "50%         0.194000       0.606000  2.017730e+05       0.605000   \n",
       "75%         0.620000       0.728000  2.402685e+05       0.776000   \n",
       "max         0.996000       0.996000  5.610020e+06       1.000000   \n",
       "\n",
       "       instrumentalness            key       liveness       loudness  \\\n",
       "count     116372.000000  116372.000000  116372.000000  116372.000000   \n",
       "mean           0.230127       5.239894       0.194196      -9.944835   \n",
       "std            0.363406       3.603924       0.167389       6.503818   \n",
       "min            0.000000       0.000000       0.000000     -60.000000   \n",
       "25%            0.000000       2.000000       0.097400     -11.845250   \n",
       "50%            0.000187       5.000000       0.123000      -7.992000   \n",
       "75%            0.491000       8.000000       0.234000      -5.701000   \n",
       "max            1.000000      11.000000       0.999000       1.806000   \n",
       "\n",
       "                mode    speechiness          tempo  time_signature  \\\n",
       "count  116372.000000  116372.000000  116372.000000   116372.000000   \n",
       "mean        0.607534       0.112204     119.603767        3.883005   \n",
       "std         0.488302       0.124382      30.151621        0.508566   \n",
       "min         0.000000       0.000000       0.000000        0.000000   \n",
       "25%         0.000000       0.038900      96.131000        4.000000   \n",
       "50%         1.000000       0.056000     120.031500        4.000000   \n",
       "75%         1.000000       0.129000     139.783000        4.000000   \n",
       "max         1.000000       0.966000     249.983000        5.000000   \n",
       "\n",
       "             valence     popularity  \n",
       "count  116372.000000  116372.000000  \n",
       "mean        0.438393      24.235082  \n",
       "std         0.259566      17.931939  \n",
       "min         0.000000       0.000000  \n",
       "25%         0.222000      10.000000  \n",
       "50%         0.419000      22.000000  \n",
       "75%         0.637000      35.000000  \n",
       "max         1.000000     100.000000  "
      ]
     },
     "execution_count": 6,
     "metadata": {},
     "output_type": "execute_result"
    }
   ],
   "source": [
    "spotify.describe()"
   ]
  },
  {
   "cell_type": "markdown",
   "metadata": {},
   "source": [
    "Based on the data above, we expect to have some outliers in the data. In order to make sure this guess is right, we use boxplots to visually identify the outliers. For our project, we will identify as outliers all registers beyond the three standard deviations threshold or the 0.997 quantile."
   ]
  },
  {
   "cell_type": "code",
   "execution_count": 7,
   "metadata": {},
   "outputs": [],
   "source": [
    "def findNumericColumns(df):\n",
    "    numerics = ['int16', 'int32', 'int64', 'float16', 'float32', 'float64']\n",
    "    return df.select_dtypes(include=numerics).columns.tolist()"
   ]
  },
  {
   "cell_type": "code",
   "execution_count": 8,
   "metadata": {
    "scrolled": false
   },
   "outputs": [
    {
     "data": {
      "image/png": "[encoded data removed]",
      "text/plain": [
       "<Figure size 1800x2880 with 16 Axes>"
      ]
     },
     "metadata": {
      "needs_background": "light"
     },
     "output_type": "display_data"
    }
   ],
   "source": [
    "numCols=findNumericColumns(spotify)\n",
    "f, ax=plt.subplots(math.ceil(len(numCols)/4), 4 ,figsize=(25,40))\n",
    "for i,e in enumerate(numCols):\n",
    "    red_outliers = dict(markerfacecolor='r', marker='o')\n",
    "    ax[int(i/4)][i%4].boxplot(spotify[e],whis=0.997,flierprops=red_outliers, patch_artist=True, medianprops=dict(color='black'), boxprops=dict(facecolor='skyblue', color='black'))\n",
    "    ax[int(i/4)][i%4].set_title(e)\n",
    "    ax[int(i/4)][i%4].yaxis.grid(True)"
   ]
  },
  {
   "cell_type": "markdown",
   "metadata": {},
   "source": [
    "We also want to have a look at the frecuencies by using histograms"
   ]
  },
  {
   "cell_type": "code",
   "execution_count": 9,
   "metadata": {},
   "outputs": [
    {
     "data": {
      "image/png": "[encoded data removed]",
      "text/plain": [
       "<Figure size 1800x2880 with 16 Axes>"
      ]
     },
     "metadata": {
      "needs_background": "light"
     },
     "output_type": "display_data"
    }
   ],
   "source": [
    "numCols=findNumericColumns(spotify)\n",
    "f, ax=plt.subplots(math.ceil(len(numCols)/4), 4 ,figsize=(25,40))\n",
    "for i,e in enumerate(numCols):\n",
    "    red_outliers = dict(markerfacecolor='r', marker='o')\n",
    "    ax[int(i/4)][i%4].hist(spotify[e])\n",
    "    ax[int(i/4)][i%4].set_title(e)\n",
    "    ax[int(i/4)][i%4].yaxis.grid(True)"
   ]
  },
  {
   "cell_type": "markdown",
   "metadata": {},
   "source": [
    "We now want to see if linear correlations exists in our model:"
   ]
  },
  {
   "cell_type": "code",
   "execution_count": 10,
   "metadata": {},
   "outputs": [
    {
     "data": {
      "text/plain": [
       "<matplotlib.axes._subplots.AxesSubplot at 0x7fc01b372c18>"
      ]
     },
     "execution_count": 10,
     "metadata": {},
     "output_type": "execute_result"
    },
    {
     "data": {
      "image/png": "[encoded data removed]",
      "text/plain": [
       "<Figure size 1080x720 with 2 Axes>"
      ]
     },
     "metadata": {
      "needs_background": "light"
     },
     "output_type": "display_data"
    }
   ],
   "source": [
    "spotifyCorr=spotify.corr()\n",
    "f, ax=plt.subplots(figsize=(15,10))\n",
    "sns.heatmap(spotifyCorr, annot=True, linecolor='white', linewidths=0.2)"
   ]
  },
  {
   "cell_type": "markdown",
   "metadata": {},
   "source": [
    "As we see in the correlation heatmap above, there is no really high correlations between our numeric variables. We might want to follow up with loudness-energy which presents a 0.76 correlation which might need to be actioned."
   ]
  },
  {
   "cell_type": "markdown",
   "metadata": {},
   "source": [
    "## Data Manipulation - Data Wrangling"
   ]
  },
  {
   "cell_type": "markdown",
   "metadata": {},
   "source": [
    "First thing we need to do is decide what we are going to do with the non-numeric columns in our data set, let's have a closer look to each one of them."
   ]
  },
  {
   "cell_type": "code",
   "execution_count": 11,
   "metadata": {},
   "outputs": [
    {
     "data": {
      "text/plain": [
       "Index(['artist_name', 'track_id', 'track_name', 'acousticness', 'danceability',\n",
       "       'duration_ms', 'energy', 'instrumentalness', 'key', 'liveness',\n",
       "       'loudness', 'mode', 'speechiness', 'tempo', 'time_signature', 'valence',\n",
       "       'popularity'],\n",
       "      dtype='object')"
      ]
     },
     "execution_count": 11,
     "metadata": {},
     "output_type": "execute_result"
    }
   ],
   "source": [
    "spotify.columns"
   ]
  },
  {
   "cell_type": "code",
   "execution_count": 12,
   "metadata": {
    "scrolled": true
   },
   "outputs": [
    {
     "data": {
      "text/plain": [
       "32105"
      ]
     },
     "metadata": {},
     "output_type": "display_data"
    },
    {
     "data": {
      "text/plain": [
       "Johann Sebastian Bach       2841\n",
       "Wolfgang Amadeus Mozart      929\n",
       "Armin van Buuren             773\n",
       "Ludwig van Beethoven         654\n",
       "Frédéric Chopin              521\n",
       "Image Sounds                 369\n",
       "Claude Debussy               330\n",
       "Waka Flocka Flame            269\n",
       "Antonio Vivaldi              241\n",
       "Duo Libano                   240\n",
       "Binaural Beats Sleep         236\n",
       "Los Cadetes De Linares       231\n",
       "Rain Sounds                  188\n",
       "Above & Beyond               185\n",
       "Shun Yu                      179\n",
       "Ron Komie                    175\n",
       "Franz Schubert               139\n",
       "George Frideric Handel       127\n",
       "Pyotr Ilyich Tchaikovsky     124\n",
       "DJ Fuqua                     118\n",
       "Eagles                       115\n",
       "Tiger Lily                   108\n",
       "Yuuki Sung                   106\n",
       "Jonathan Hay                 102\n",
       "Thunderstorm Sound Bank      101\n",
       "Mike Smith                   100\n",
       "Chief Keef                    98\n",
       "Samson Oxmoor                 96\n",
       "R.E.M.                        86\n",
       "J3 EDC                        86\n",
       "                            ... \n",
       "Confidns                       1\n",
       "Ellevn                         1\n",
       "Vadim Salmanov                 1\n",
       "Steezmonks                     1\n",
       "Fearless Soul                  1\n",
       "Stephane legar                 1\n",
       "Rain Spa                       1\n",
       "YOO SEONHO                     1\n",
       "Zeal & Ardor                   1\n",
       "Ruthless Ruth                  1\n",
       "D.O                            1\n",
       "Valentina                      1\n",
       "Gerry Skrillz                  1\n",
       "IIANSTONE                      1\n",
       "John Austin                    1\n",
       "Marisa Frantz                  1\n",
       "Picture This                   1\n",
       "EXILE ATSUSHI                  1\n",
       "Tatiana Hazel                  1\n",
       "Hosannas                       1\n",
       "LAMMER                         1\n",
       "Stefano Andriezzi              1\n",
       "Amir Obe                       1\n",
       "Franicbeat                     1\n",
       "Birdtalker                     1\n",
       "Chrisy Nova                    1\n",
       "Marina Lin                     1\n",
       "Ken-Y                          1\n",
       "VIRTU                          1\n",
       "Sarah Monique                  1\n",
       "Name: artist_name, Length: 32105, dtype: int64"
      ]
     },
     "metadata": {},
     "output_type": "display_data"
    }
   ],
   "source": [
    "display(len(spotify['artist_name'].value_counts()))\n",
    "valc=spotify['artist_name'].value_counts()\n",
    "display(valc)"
   ]
  },
  {
   "cell_type": "markdown",
   "metadata": {},
   "source": [
    "We can see that the field 'artist_name' holds a large number of unique values hence we can directly apply a one-hot-encoding process; however, we realize the artist column could have an important influence in the popularity of a song, this means we ought to preserve the column. In order to resolve this issue, we have decided that artists with less than 50 songs in the dataset will be grouped under 'Others' since that number does not represent a significant quantity for our model to properly learn. After doing so, we will apply one-hot-encoding to the column."
   ]
  },
  {
   "cell_type": "code",
   "execution_count": 13,
   "metadata": {},
   "outputs": [],
   "source": [
    "valOver50=[valc.index[i] for i,e in enumerate(valc) if e>=50]"
   ]
  },
  {
   "cell_type": "code",
   "execution_count": 14,
   "metadata": {},
   "outputs": [],
   "source": [
    "def classifyToOthers(listToPreserve, df, column):\n",
    "    res=[]\n",
    "    for e in df[column]:    \n",
    "        if e in listToPreserve:\n",
    "            res.append(e)\n",
    "        else:\n",
    "            res.append('Others')\n",
    "    return res"
   ]
  },
  {
   "cell_type": "code",
   "execution_count": 15,
   "metadata": {},
   "outputs": [],
   "source": [
    "spotify['artist_name']=classifyToOthers(valOver50,spotify,'artist_name')"
   ]
  },
  {
   "cell_type": "code",
   "execution_count": 16,
   "metadata": {
    "scrolled": true
   },
   "outputs": [
    {
     "data": {
      "text/plain": [
       "Others                        103870\n",
       "Johann Sebastian Bach           2841\n",
       "Wolfgang Amadeus Mozart          929\n",
       "Armin van Buuren                 773\n",
       "Ludwig van Beethoven             654\n",
       "Frédéric Chopin                  521\n",
       "Image Sounds                     369\n",
       "Claude Debussy                   330\n",
       "Waka Flocka Flame                269\n",
       "Antonio Vivaldi                  241\n",
       "Duo Libano                       240\n",
       "Binaural Beats Sleep             236\n",
       "Los Cadetes De Linares           231\n",
       "Rain Sounds                      188\n",
       "Above & Beyond                   185\n",
       "Shun Yu                          179\n",
       "Ron Komie                        175\n",
       "Franz Schubert                   139\n",
       "George Frideric Handel           127\n",
       "Pyotr Ilyich Tchaikovsky         124\n",
       "DJ Fuqua                         118\n",
       "Eagles                           115\n",
       "Tiger Lily                       108\n",
       "Yuuki Sung                       106\n",
       "Jonathan Hay                     102\n",
       "Thunderstorm Sound Bank          101\n",
       "Mike Smith                       100\n",
       "Chief Keef                        98\n",
       "Samson Oxmoor                     96\n",
       "J3 EDC                            86\n",
       "                               ...  \n",
       "John Prine                        61\n",
       "Silent Knights                    61\n",
       "Lud Foe                           61\n",
       "MYMP                              60\n",
       "StackUpGang                       60\n",
       "Dog Music                         60\n",
       "Holly Dante                       60\n",
       "Tray Loop                         59\n",
       "Mikaeli                           59\n",
       "Plattenschieber                   57\n",
       "Elvis Presley                     57\n",
       "YoungBoy Never Broke Again        57\n",
       "Primera Generacion                56\n",
       "Simon Chylinksi                   56\n",
       "Curren$y                          56\n",
       "Chuy Vega                         56\n",
       "BONES                             55\n",
       "Waterfall Sounds                  54\n",
       "Dave East                         53\n",
       "Kidz Bop Kids                     53\n",
       "Grupo Miramar                     52\n",
       "Anthem Lights                     52\n",
       "Los Tucanes De Tijuana            52\n",
       "Andrei Krylov                     52\n",
       "Fleetwood Mac                     52\n",
       "Def Cut                           51\n",
       "Ocean Sounds                      51\n",
       "Sergei Rachmaninoff               50\n",
       "Snoop Dogg                        50\n",
       "Musica Sacra                      50\n",
       "Name: artist_name, Length: 74, dtype: int64"
      ]
     },
     "execution_count": 16,
     "metadata": {},
     "output_type": "execute_result"
    }
   ],
   "source": [
    "spotify['artist_name'].value_counts()"
   ]
  },
  {
   "cell_type": "markdown",
   "metadata": {},
   "source": [
    "The second numeric column 'track_id' defines a unique code for each song in order to be identified, this does not add any extra value to our model so we have decided to remove it."
   ]
  },
  {
   "cell_type": "code",
   "execution_count": 17,
   "metadata": {},
   "outputs": [
    {
     "data": {
      "text/html": [
       "<div>\n",
       "<style scoped>\n",
       "    .dataframe tbody tr th:only-of-type {\n",
       "        vertical-align: middle;\n",
       "    }\n",
       "\n",
       "    .dataframe tbody tr th {\n",
       "        vertical-align: top;\n",
       "    }\n",
       "\n",
       "    .dataframe thead th {\n",
       "        text-align: right;\n",
       "    }\n",
       "</style>\n",
       "<table border=\"1\" class=\"dataframe\">\n",
       "  <thead>\n",
       "    <tr style=\"text-align: right;\">\n",
       "      <th></th>\n",
       "      <th>artist_name</th>\n",
       "      <th>track_name</th>\n",
       "      <th>acousticness</th>\n",
       "      <th>danceability</th>\n",
       "      <th>duration_ms</th>\n",
       "      <th>energy</th>\n",
       "      <th>instrumentalness</th>\n",
       "      <th>key</th>\n",
       "      <th>liveness</th>\n",
       "      <th>loudness</th>\n",
       "      <th>mode</th>\n",
       "      <th>speechiness</th>\n",
       "      <th>tempo</th>\n",
       "      <th>time_signature</th>\n",
       "      <th>valence</th>\n",
       "      <th>popularity</th>\n",
       "    </tr>\n",
       "  </thead>\n",
       "  <tbody>\n",
       "    <tr>\n",
       "      <th>0</th>\n",
       "      <td>Others</td>\n",
       "      <td>Big Bank feat. 2 Chainz, Big Sean, Nicki Minaj</td>\n",
       "      <td>0.005820</td>\n",
       "      <td>0.743</td>\n",
       "      <td>238373</td>\n",
       "      <td>0.339</td>\n",
       "      <td>0.000</td>\n",
       "      <td>1</td>\n",
       "      <td>0.0812</td>\n",
       "      <td>-7.678</td>\n",
       "      <td>1</td>\n",
       "      <td>0.4090</td>\n",
       "      <td>203.927</td>\n",
       "      <td>4</td>\n",
       "      <td>0.118</td>\n",
       "      <td>44</td>\n",
       "    </tr>\n",
       "    <tr>\n",
       "      <th>1</th>\n",
       "      <td>Others</td>\n",
       "      <td>BAND DRUM (feat. A$AP Rocky)</td>\n",
       "      <td>0.024400</td>\n",
       "      <td>0.846</td>\n",
       "      <td>214800</td>\n",
       "      <td>0.557</td>\n",
       "      <td>0.000</td>\n",
       "      <td>8</td>\n",
       "      <td>0.2860</td>\n",
       "      <td>-7.259</td>\n",
       "      <td>1</td>\n",
       "      <td>0.4570</td>\n",
       "      <td>159.009</td>\n",
       "      <td>4</td>\n",
       "      <td>0.371</td>\n",
       "      <td>10</td>\n",
       "    </tr>\n",
       "    <tr>\n",
       "      <th>2</th>\n",
       "      <td>Others</td>\n",
       "      <td>Radio Silence</td>\n",
       "      <td>0.025000</td>\n",
       "      <td>0.603</td>\n",
       "      <td>138913</td>\n",
       "      <td>0.723</td>\n",
       "      <td>0.000</td>\n",
       "      <td>9</td>\n",
       "      <td>0.0824</td>\n",
       "      <td>-5.890</td>\n",
       "      <td>0</td>\n",
       "      <td>0.0454</td>\n",
       "      <td>114.966</td>\n",
       "      <td>4</td>\n",
       "      <td>0.382</td>\n",
       "      <td>63</td>\n",
       "    </tr>\n",
       "    <tr>\n",
       "      <th>3</th>\n",
       "      <td>Others</td>\n",
       "      <td>Lactose</td>\n",
       "      <td>0.029400</td>\n",
       "      <td>0.800</td>\n",
       "      <td>125381</td>\n",
       "      <td>0.579</td>\n",
       "      <td>0.912</td>\n",
       "      <td>5</td>\n",
       "      <td>0.0994</td>\n",
       "      <td>-12.118</td>\n",
       "      <td>0</td>\n",
       "      <td>0.0701</td>\n",
       "      <td>123.003</td>\n",
       "      <td>4</td>\n",
       "      <td>0.641</td>\n",
       "      <td>9</td>\n",
       "    </tr>\n",
       "    <tr>\n",
       "      <th>4</th>\n",
       "      <td>Others</td>\n",
       "      <td>Same - Original mix</td>\n",
       "      <td>0.000035</td>\n",
       "      <td>0.783</td>\n",
       "      <td>124016</td>\n",
       "      <td>0.792</td>\n",
       "      <td>0.878</td>\n",
       "      <td>7</td>\n",
       "      <td>0.0332</td>\n",
       "      <td>-10.277</td>\n",
       "      <td>1</td>\n",
       "      <td>0.0661</td>\n",
       "      <td>120.047</td>\n",
       "      <td>4</td>\n",
       "      <td>0.928</td>\n",
       "      <td>8</td>\n",
       "    </tr>\n",
       "  </tbody>\n",
       "</table>\n",
       "</div>"
      ],
      "text/plain": [
       "  artist_name                                      track_name  acousticness  \\\n",
       "0      Others  Big Bank feat. 2 Chainz, Big Sean, Nicki Minaj      0.005820   \n",
       "1      Others                    BAND DRUM (feat. A$AP Rocky)      0.024400   \n",
       "2      Others                                   Radio Silence      0.025000   \n",
       "3      Others                                         Lactose      0.029400   \n",
       "4      Others                             Same - Original mix      0.000035   \n",
       "\n",
       "   danceability  duration_ms  energy  instrumentalness  key  liveness  \\\n",
       "0         0.743       238373   0.339             0.000    1    0.0812   \n",
       "1         0.846       214800   0.557             0.000    8    0.2860   \n",
       "2         0.603       138913   0.723             0.000    9    0.0824   \n",
       "3         0.800       125381   0.579             0.912    5    0.0994   \n",
       "4         0.783       124016   0.792             0.878    7    0.0332   \n",
       "\n",
       "   loudness  mode  speechiness    tempo  time_signature  valence  popularity  \n",
       "0    -7.678     1       0.4090  203.927               4    0.118          44  \n",
       "1    -7.259     1       0.4570  159.009               4    0.371          10  \n",
       "2    -5.890     0       0.0454  114.966               4    0.382          63  \n",
       "3   -12.118     0       0.0701  123.003               4    0.641           9  \n",
       "4   -10.277     1       0.0661  120.047               4    0.928           8  "
      ]
     },
     "execution_count": 17,
     "metadata": {},
     "output_type": "execute_result"
    }
   ],
   "source": [
    "spotifyFilt=spotify.drop(columns=['track_id'])\n",
    "spotifyFilt.head()"
   ]
  },
  {
   "cell_type": "code",
   "execution_count": 18,
   "metadata": {},
   "outputs": [
    {
     "data": {
      "text/plain": [
       "artist_name         0\n",
       "track_name          0\n",
       "acousticness        0\n",
       "danceability        0\n",
       "duration_ms         0\n",
       "energy              0\n",
       "instrumentalness    0\n",
       "key                 0\n",
       "liveness            0\n",
       "loudness            0\n",
       "mode                0\n",
       "speechiness         0\n",
       "tempo               0\n",
       "time_signature      0\n",
       "valence             0\n",
       "popularity          0\n",
       "dtype: int64"
      ]
     },
     "execution_count": 18,
     "metadata": {},
     "output_type": "execute_result"
    }
   ],
   "source": [
    "spotifyFilt.isna().sum()"
   ]
  },
  {
   "cell_type": "markdown",
   "metadata": {},
   "source": [
    "The only remaining numeric column is 'track_name', we can guess some relationships between the name and the popularity, however such relations are difficult to describe and are potentially not strong. Therefore, we have decided to drop this column."
   ]
  },
  {
   "cell_type": "markdown",
   "metadata": {},
   "source": [
    "!!!Possible NLP to be applied to the track name column\n",
    "!!!!cheack featured songs and classify"
   ]
  },
  {
   "cell_type": "code",
   "execution_count": 19,
   "metadata": {},
   "outputs": [
    {
     "data": {
      "text/html": [
       "<div>\n",
       "<style scoped>\n",
       "    .dataframe tbody tr th:only-of-type {\n",
       "        vertical-align: middle;\n",
       "    }\n",
       "\n",
       "    .dataframe tbody tr th {\n",
       "        vertical-align: top;\n",
       "    }\n",
       "\n",
       "    .dataframe thead th {\n",
       "        text-align: right;\n",
       "    }\n",
       "</style>\n",
       "<table border=\"1\" class=\"dataframe\">\n",
       "  <thead>\n",
       "    <tr style=\"text-align: right;\">\n",
       "      <th></th>\n",
       "      <th>artist_name</th>\n",
       "      <th>acousticness</th>\n",
       "      <th>danceability</th>\n",
       "      <th>duration_ms</th>\n",
       "      <th>energy</th>\n",
       "      <th>instrumentalness</th>\n",
       "      <th>key</th>\n",
       "      <th>liveness</th>\n",
       "      <th>loudness</th>\n",
       "      <th>mode</th>\n",
       "      <th>speechiness</th>\n",
       "      <th>tempo</th>\n",
       "      <th>time_signature</th>\n",
       "      <th>valence</th>\n",
       "      <th>popularity</th>\n",
       "    </tr>\n",
       "  </thead>\n",
       "  <tbody>\n",
       "    <tr>\n",
       "      <th>0</th>\n",
       "      <td>Others</td>\n",
       "      <td>0.005820</td>\n",
       "      <td>0.743</td>\n",
       "      <td>238373</td>\n",
       "      <td>0.339</td>\n",
       "      <td>0.000</td>\n",
       "      <td>1</td>\n",
       "      <td>0.0812</td>\n",
       "      <td>-7.678</td>\n",
       "      <td>1</td>\n",
       "      <td>0.4090</td>\n",
       "      <td>203.927</td>\n",
       "      <td>4</td>\n",
       "      <td>0.118</td>\n",
       "      <td>44</td>\n",
       "    </tr>\n",
       "    <tr>\n",
       "      <th>1</th>\n",
       "      <td>Others</td>\n",
       "      <td>0.024400</td>\n",
       "      <td>0.846</td>\n",
       "      <td>214800</td>\n",
       "      <td>0.557</td>\n",
       "      <td>0.000</td>\n",
       "      <td>8</td>\n",
       "      <td>0.2860</td>\n",
       "      <td>-7.259</td>\n",
       "      <td>1</td>\n",
       "      <td>0.4570</td>\n",
       "      <td>159.009</td>\n",
       "      <td>4</td>\n",
       "      <td>0.371</td>\n",
       "      <td>10</td>\n",
       "    </tr>\n",
       "    <tr>\n",
       "      <th>2</th>\n",
       "      <td>Others</td>\n",
       "      <td>0.025000</td>\n",
       "      <td>0.603</td>\n",
       "      <td>138913</td>\n",
       "      <td>0.723</td>\n",
       "      <td>0.000</td>\n",
       "      <td>9</td>\n",
       "      <td>0.0824</td>\n",
       "      <td>-5.890</td>\n",
       "      <td>0</td>\n",
       "      <td>0.0454</td>\n",
       "      <td>114.966</td>\n",
       "      <td>4</td>\n",
       "      <td>0.382</td>\n",
       "      <td>63</td>\n",
       "    </tr>\n",
       "    <tr>\n",
       "      <th>3</th>\n",
       "      <td>Others</td>\n",
       "      <td>0.029400</td>\n",
       "      <td>0.800</td>\n",
       "      <td>125381</td>\n",
       "      <td>0.579</td>\n",
       "      <td>0.912</td>\n",
       "      <td>5</td>\n",
       "      <td>0.0994</td>\n",
       "      <td>-12.118</td>\n",
       "      <td>0</td>\n",
       "      <td>0.0701</td>\n",
       "      <td>123.003</td>\n",
       "      <td>4</td>\n",
       "      <td>0.641</td>\n",
       "      <td>9</td>\n",
       "    </tr>\n",
       "    <tr>\n",
       "      <th>4</th>\n",
       "      <td>Others</td>\n",
       "      <td>0.000035</td>\n",
       "      <td>0.783</td>\n",
       "      <td>124016</td>\n",
       "      <td>0.792</td>\n",
       "      <td>0.878</td>\n",
       "      <td>7</td>\n",
       "      <td>0.0332</td>\n",
       "      <td>-10.277</td>\n",
       "      <td>1</td>\n",
       "      <td>0.0661</td>\n",
       "      <td>120.047</td>\n",
       "      <td>4</td>\n",
       "      <td>0.928</td>\n",
       "      <td>8</td>\n",
       "    </tr>\n",
       "  </tbody>\n",
       "</table>\n",
       "</div>"
      ],
      "text/plain": [
       "  artist_name  acousticness  danceability  duration_ms  energy  \\\n",
       "0      Others      0.005820         0.743       238373   0.339   \n",
       "1      Others      0.024400         0.846       214800   0.557   \n",
       "2      Others      0.025000         0.603       138913   0.723   \n",
       "3      Others      0.029400         0.800       125381   0.579   \n",
       "4      Others      0.000035         0.783       124016   0.792   \n",
       "\n",
       "   instrumentalness  key  liveness  loudness  mode  speechiness    tempo  \\\n",
       "0             0.000    1    0.0812    -7.678     1       0.4090  203.927   \n",
       "1             0.000    8    0.2860    -7.259     1       0.4570  159.009   \n",
       "2             0.000    9    0.0824    -5.890     0       0.0454  114.966   \n",
       "3             0.912    5    0.0994   -12.118     0       0.0701  123.003   \n",
       "4             0.878    7    0.0332   -10.277     1       0.0661  120.047   \n",
       "\n",
       "   time_signature  valence  popularity  \n",
       "0               4    0.118          44  \n",
       "1               4    0.371          10  \n",
       "2               4    0.382          63  \n",
       "3               4    0.641           9  \n",
       "4               4    0.928           8  "
      ]
     },
     "execution_count": 19,
     "metadata": {},
     "output_type": "execute_result"
    }
   ],
   "source": [
    "spotifyFilt=spotifyFilt.drop(columns=['track_name'])\n",
    "spotifyFilt.head()"
   ]
  },
  {
   "cell_type": "code",
   "execution_count": 20,
   "metadata": {},
   "outputs": [
    {
     "data": {
      "text/plain": [
       "artist_name         0\n",
       "acousticness        0\n",
       "danceability        0\n",
       "duration_ms         0\n",
       "energy              0\n",
       "instrumentalness    0\n",
       "key                 0\n",
       "liveness            0\n",
       "loudness            0\n",
       "mode                0\n",
       "speechiness         0\n",
       "tempo               0\n",
       "time_signature      0\n",
       "valence             0\n",
       "popularity          0\n",
       "dtype: int64"
      ]
     },
     "execution_count": 20,
     "metadata": {},
     "output_type": "execute_result"
    }
   ],
   "source": [
    "spotifyFilt.isna().sum()"
   ]
  },
  {
   "cell_type": "markdown",
   "metadata": {},
   "source": [
    "It is now time to apply the one-hot-encoding to the artist_name column:"
   ]
  },
  {
   "cell_type": "code",
   "execution_count": 21,
   "metadata": {
    "scrolled": true
   },
   "outputs": [
    {
     "data": {
      "text/html": [
       "<div>\n",
       "<style scoped>\n",
       "    .dataframe tbody tr th:only-of-type {\n",
       "        vertical-align: middle;\n",
       "    }\n",
       "\n",
       "    .dataframe tbody tr th {\n",
       "        vertical-align: top;\n",
       "    }\n",
       "\n",
       "    .dataframe thead th {\n",
       "        text-align: right;\n",
       "    }\n",
       "</style>\n",
       "<table border=\"1\" class=\"dataframe\">\n",
       "  <thead>\n",
       "    <tr style=\"text-align: right;\">\n",
       "      <th></th>\n",
       "      <th>acousticness</th>\n",
       "      <th>danceability</th>\n",
       "      <th>duration_ms</th>\n",
       "      <th>energy</th>\n",
       "      <th>instrumentalness</th>\n",
       "      <th>key</th>\n",
       "      <th>liveness</th>\n",
       "      <th>loudness</th>\n",
       "      <th>mode</th>\n",
       "      <th>speechiness</th>\n",
       "      <th>...</th>\n",
       "      <th>artist_name_Thunderstorm Sound Bank</th>\n",
       "      <th>artist_name_Tiger Lily</th>\n",
       "      <th>artist_name_Tray Loop</th>\n",
       "      <th>artist_name_Waka Flocka Flame</th>\n",
       "      <th>artist_name_Waterfall Sounds</th>\n",
       "      <th>artist_name_Wolfgang Amadeus Mozart</th>\n",
       "      <th>artist_name_YoungBoy Never Broke Again</th>\n",
       "      <th>artist_name_Yuuki Sung</th>\n",
       "      <th>artist_name_Кино</th>\n",
       "      <th>artist_name_Михаил Шуфутинский</th>\n",
       "    </tr>\n",
       "  </thead>\n",
       "  <tbody>\n",
       "    <tr>\n",
       "      <th>0</th>\n",
       "      <td>0.005820</td>\n",
       "      <td>0.743</td>\n",
       "      <td>238373</td>\n",
       "      <td>0.339</td>\n",
       "      <td>0.000</td>\n",
       "      <td>1</td>\n",
       "      <td>0.0812</td>\n",
       "      <td>-7.678</td>\n",
       "      <td>1</td>\n",
       "      <td>0.4090</td>\n",
       "      <td>...</td>\n",
       "      <td>0</td>\n",
       "      <td>0</td>\n",
       "      <td>0</td>\n",
       "      <td>0</td>\n",
       "      <td>0</td>\n",
       "      <td>0</td>\n",
       "      <td>0</td>\n",
       "      <td>0</td>\n",
       "      <td>0</td>\n",
       "      <td>0</td>\n",
       "    </tr>\n",
       "    <tr>\n",
       "      <th>1</th>\n",
       "      <td>0.024400</td>\n",
       "      <td>0.846</td>\n",
       "      <td>214800</td>\n",
       "      <td>0.557</td>\n",
       "      <td>0.000</td>\n",
       "      <td>8</td>\n",
       "      <td>0.2860</td>\n",
       "      <td>-7.259</td>\n",
       "      <td>1</td>\n",
       "      <td>0.4570</td>\n",
       "      <td>...</td>\n",
       "      <td>0</td>\n",
       "      <td>0</td>\n",
       "      <td>0</td>\n",
       "      <td>0</td>\n",
       "      <td>0</td>\n",
       "      <td>0</td>\n",
       "      <td>0</td>\n",
       "      <td>0</td>\n",
       "      <td>0</td>\n",
       "      <td>0</td>\n",
       "    </tr>\n",
       "    <tr>\n",
       "      <th>2</th>\n",
       "      <td>0.025000</td>\n",
       "      <td>0.603</td>\n",
       "      <td>138913</td>\n",
       "      <td>0.723</td>\n",
       "      <td>0.000</td>\n",
       "      <td>9</td>\n",
       "      <td>0.0824</td>\n",
       "      <td>-5.890</td>\n",
       "      <td>0</td>\n",
       "      <td>0.0454</td>\n",
       "      <td>...</td>\n",
       "      <td>0</td>\n",
       "      <td>0</td>\n",
       "      <td>0</td>\n",
       "      <td>0</td>\n",
       "      <td>0</td>\n",
       "      <td>0</td>\n",
       "      <td>0</td>\n",
       "      <td>0</td>\n",
       "      <td>0</td>\n",
       "      <td>0</td>\n",
       "    </tr>\n",
       "    <tr>\n",
       "      <th>3</th>\n",
       "      <td>0.029400</td>\n",
       "      <td>0.800</td>\n",
       "      <td>125381</td>\n",
       "      <td>0.579</td>\n",
       "      <td>0.912</td>\n",
       "      <td>5</td>\n",
       "      <td>0.0994</td>\n",
       "      <td>-12.118</td>\n",
       "      <td>0</td>\n",
       "      <td>0.0701</td>\n",
       "      <td>...</td>\n",
       "      <td>0</td>\n",
       "      <td>0</td>\n",
       "      <td>0</td>\n",
       "      <td>0</td>\n",
       "      <td>0</td>\n",
       "      <td>0</td>\n",
       "      <td>0</td>\n",
       "      <td>0</td>\n",
       "      <td>0</td>\n",
       "      <td>0</td>\n",
       "    </tr>\n",
       "    <tr>\n",
       "      <th>4</th>\n",
       "      <td>0.000035</td>\n",
       "      <td>0.783</td>\n",
       "      <td>124016</td>\n",
       "      <td>0.792</td>\n",
       "      <td>0.878</td>\n",
       "      <td>7</td>\n",
       "      <td>0.0332</td>\n",
       "      <td>-10.277</td>\n",
       "      <td>1</td>\n",
       "      <td>0.0661</td>\n",
       "      <td>...</td>\n",
       "      <td>0</td>\n",
       "      <td>0</td>\n",
       "      <td>0</td>\n",
       "      <td>0</td>\n",
       "      <td>0</td>\n",
       "      <td>0</td>\n",
       "      <td>0</td>\n",
       "      <td>0</td>\n",
       "      <td>0</td>\n",
       "      <td>0</td>\n",
       "    </tr>\n",
       "  </tbody>\n",
       "</table>\n",
       "<p>5 rows × 88 columns</p>\n",
       "</div>"
      ],
      "text/plain": [
       "   acousticness  danceability  duration_ms  energy  instrumentalness  key  \\\n",
       "0      0.005820         0.743       238373   0.339             0.000    1   \n",
       "1      0.024400         0.846       214800   0.557             0.000    8   \n",
       "2      0.025000         0.603       138913   0.723             0.000    9   \n",
       "3      0.029400         0.800       125381   0.579             0.912    5   \n",
       "4      0.000035         0.783       124016   0.792             0.878    7   \n",
       "\n",
       "   liveness  loudness  mode  speechiness               ...                \\\n",
       "0    0.0812    -7.678     1       0.4090               ...                 \n",
       "1    0.2860    -7.259     1       0.4570               ...                 \n",
       "2    0.0824    -5.890     0       0.0454               ...                 \n",
       "3    0.0994   -12.118     0       0.0701               ...                 \n",
       "4    0.0332   -10.277     1       0.0661               ...                 \n",
       "\n",
       "   artist_name_Thunderstorm Sound Bank  artist_name_Tiger Lily  \\\n",
       "0                                    0                       0   \n",
       "1                                    0                       0   \n",
       "2                                    0                       0   \n",
       "3                                    0                       0   \n",
       "4                                    0                       0   \n",
       "\n",
       "   artist_name_Tray Loop  artist_name_Waka Flocka Flame  \\\n",
       "0                      0                              0   \n",
       "1                      0                              0   \n",
       "2                      0                              0   \n",
       "3                      0                              0   \n",
       "4                      0                              0   \n",
       "\n",
       "   artist_name_Waterfall Sounds  artist_name_Wolfgang Amadeus Mozart  \\\n",
       "0                             0                                    0   \n",
       "1                             0                                    0   \n",
       "2                             0                                    0   \n",
       "3                             0                                    0   \n",
       "4                             0                                    0   \n",
       "\n",
       "   artist_name_YoungBoy Never Broke Again  artist_name_Yuuki Sung  \\\n",
       "0                                       0                       0   \n",
       "1                                       0                       0   \n",
       "2                                       0                       0   \n",
       "3                                       0                       0   \n",
       "4                                       0                       0   \n",
       "\n",
       "   artist_name_Кино  artist_name_Михаил Шуфутинский  \n",
       "0                 0                               0  \n",
       "1                 0                               0  \n",
       "2                 0                               0  \n",
       "3                 0                               0  \n",
       "4                 0                               0  \n",
       "\n",
       "[5 rows x 88 columns]"
      ]
     },
     "execution_count": 21,
     "metadata": {},
     "output_type": "execute_result"
    }
   ],
   "source": [
    "spotifyFilt=pd.get_dummies(spotifyFilt)\n",
    "spotifyFilt.head()"
   ]
  },
  {
   "cell_type": "code",
   "execution_count": 22,
   "metadata": {},
   "outputs": [
    {
     "data": {
      "text/plain": [
       "acousticness                              0\n",
       "danceability                              0\n",
       "duration_ms                               0\n",
       "energy                                    0\n",
       "instrumentalness                          0\n",
       "key                                       0\n",
       "liveness                                  0\n",
       "loudness                                  0\n",
       "mode                                      0\n",
       "speechiness                               0\n",
       "tempo                                     0\n",
       "time_signature                            0\n",
       "valence                                   0\n",
       "popularity                                0\n",
       "artist_name_Above & Beyond                0\n",
       "artist_name_Andrei Krylov                 0\n",
       "artist_name_Anthem Lights                 0\n",
       "artist_name_Antonio Vivaldi               0\n",
       "artist_name_Armin van Buuren              0\n",
       "artist_name_BONES                         0\n",
       "artist_name_Binaural Beats Sleep          0\n",
       "artist_name_Chief Keef                    0\n",
       "artist_name_Chuy Vega                     0\n",
       "artist_name_Claude Debussy                0\n",
       "artist_name_Curren$y                      0\n",
       "artist_name_DJ Fuqua                      0\n",
       "artist_name_Dave East                     0\n",
       "artist_name_Def Cut                       0\n",
       "artist_name_Dog Music                     0\n",
       "artist_name_Duo Libano                    0\n",
       "                                         ..\n",
       "artist_name_Ocean Waves For Sleep         0\n",
       "artist_name_Others                        0\n",
       "artist_name_P Stack                       0\n",
       "artist_name_Perpetuum Jazzile             0\n",
       "artist_name_Plattenschieber               0\n",
       "artist_name_Primera Generacion            0\n",
       "artist_name_Pyotr Ilyich Tchaikovsky      0\n",
       "artist_name_R.E.M.                        0\n",
       "artist_name_Rain Sounds                   0\n",
       "artist_name_Ron Komie                     0\n",
       "artist_name_Samson Oxmoor                 0\n",
       "artist_name_Sergei Rachmaninoff           0\n",
       "artist_name_Shane & Shane                 0\n",
       "artist_name_Shun Yu                       0\n",
       "artist_name_Silent Knights                0\n",
       "artist_name_Simon Chylinksi               0\n",
       "artist_name_Sleeping Music Experience     0\n",
       "artist_name_Snoop Dogg                    0\n",
       "artist_name_StackUpGang                   0\n",
       "artist_name_Study Music & Sounds          0\n",
       "artist_name_Thunderstorm Sound Bank       0\n",
       "artist_name_Tiger Lily                    0\n",
       "artist_name_Tray Loop                     0\n",
       "artist_name_Waka Flocka Flame             0\n",
       "artist_name_Waterfall Sounds              0\n",
       "artist_name_Wolfgang Amadeus Mozart       0\n",
       "artist_name_YoungBoy Never Broke Again    0\n",
       "artist_name_Yuuki Sung                    0\n",
       "artist_name_Кино                          0\n",
       "artist_name_Михаил Шуфутинский            0\n",
       "Length: 88, dtype: int64"
      ]
     },
     "execution_count": 22,
     "metadata": {},
     "output_type": "execute_result"
    }
   ],
   "source": [
    "spotifyFilt.isna().sum()"
   ]
  },
  {
   "cell_type": "markdown",
   "metadata": {},
   "source": [
    "We now need to decide what to do with the outliers, as mentioned in the previous section, registers that are beyond the treshold of 3 standard deviation will be considered outliers. Let's see how many values we are speaking about."
   ]
  },
  {
   "cell_type": "code",
   "execution_count": 23,
   "metadata": {},
   "outputs": [
    {
     "data": {
      "text/plain": [
       "0.18986894744929309"
      ]
     },
     "execution_count": 23,
     "metadata": {},
     "output_type": "execute_result"
    }
   ],
   "source": [
    "spotify['danceability'].std()"
   ]
  },
  {
   "cell_type": "code",
   "execution_count": 24,
   "metadata": {},
   "outputs": [],
   "source": [
    "def getOutliers(df, column, nStd):\n",
    "    res=[]\n",
    "    mx=(df[column].mean()+nStd*df[column].std())\n",
    "    mn=(df[column].mean()-nStd*df[column].std())\n",
    "    for i,r in enumerate(df[column]):\n",
    "        if r>mx or r<mn:\n",
    "            res.append(i)\n",
    "    return res"
   ]
  },
  {
   "cell_type": "code",
   "execution_count": 25,
   "metadata": {},
   "outputs": [
    {
     "data": {
      "text/plain": [
       "116372"
      ]
     },
     "metadata": {},
     "output_type": "display_data"
    },
    {
     "data": {
      "text/plain": [
       "106687"
      ]
     },
     "metadata": {},
     "output_type": "display_data"
    }
   ],
   "source": [
    "FiltSpotifyClean=spotifyFilt.copy()\n",
    "display(len(FiltSpotifyClean))\n",
    "listOut=[]\n",
    "for e in numCols:\n",
    "    if e!='popularity':    \n",
    "        listOut.append(getOutliers(FiltSpotifyClean, e, 3))\n",
    "listOut=[e for i in listOut for e in i]\n",
    "FiltSpotifyClean.drop([e for e in listOut], inplace=True)\n",
    "    \n",
    "display(len(FiltSpotifyClean))"
   ]
  },
  {
   "cell_type": "code",
   "execution_count": 26,
   "metadata": {},
   "outputs": [
    {
     "data": {
      "text/plain": [
       "0.9140944557109958"
      ]
     },
     "execution_count": 26,
     "metadata": {},
     "output_type": "execute_result"
    }
   ],
   "source": [
    "106375/116372"
   ]
  },
  {
   "cell_type": "markdown",
   "metadata": {},
   "source": [
    "We have identified the outliers and saved them in a different dataframe. In a latter stage we will train our model with and without the outlier to se which one returns better results. "
   ]
  },
  {
   "cell_type": "code",
   "execution_count": 27,
   "metadata": {},
   "outputs": [
    {
     "data": {
      "text/plain": [
       "acousticness                              0\n",
       "danceability                              0\n",
       "duration_ms                               0\n",
       "energy                                    0\n",
       "instrumentalness                          0\n",
       "key                                       0\n",
       "liveness                                  0\n",
       "loudness                                  0\n",
       "mode                                      0\n",
       "speechiness                               0\n",
       "tempo                                     0\n",
       "time_signature                            0\n",
       "valence                                   0\n",
       "popularity                                0\n",
       "artist_name_Above & Beyond                0\n",
       "artist_name_Andrei Krylov                 0\n",
       "artist_name_Anthem Lights                 0\n",
       "artist_name_Antonio Vivaldi               0\n",
       "artist_name_Armin van Buuren              0\n",
       "artist_name_BONES                         0\n",
       "artist_name_Binaural Beats Sleep          0\n",
       "artist_name_Chief Keef                    0\n",
       "artist_name_Chuy Vega                     0\n",
       "artist_name_Claude Debussy                0\n",
       "artist_name_Curren$y                      0\n",
       "artist_name_DJ Fuqua                      0\n",
       "artist_name_Dave East                     0\n",
       "artist_name_Def Cut                       0\n",
       "artist_name_Dog Music                     0\n",
       "artist_name_Duo Libano                    0\n",
       "                                         ..\n",
       "artist_name_Ocean Waves For Sleep         0\n",
       "artist_name_Others                        0\n",
       "artist_name_P Stack                       0\n",
       "artist_name_Perpetuum Jazzile             0\n",
       "artist_name_Plattenschieber               0\n",
       "artist_name_Primera Generacion            0\n",
       "artist_name_Pyotr Ilyich Tchaikovsky      0\n",
       "artist_name_R.E.M.                        0\n",
       "artist_name_Rain Sounds                   0\n",
       "artist_name_Ron Komie                     0\n",
       "artist_name_Samson Oxmoor                 0\n",
       "artist_name_Sergei Rachmaninoff           0\n",
       "artist_name_Shane & Shane                 0\n",
       "artist_name_Shun Yu                       0\n",
       "artist_name_Silent Knights                0\n",
       "artist_name_Simon Chylinksi               0\n",
       "artist_name_Sleeping Music Experience     0\n",
       "artist_name_Snoop Dogg                    0\n",
       "artist_name_StackUpGang                   0\n",
       "artist_name_Study Music & Sounds          0\n",
       "artist_name_Thunderstorm Sound Bank       0\n",
       "artist_name_Tiger Lily                    0\n",
       "artist_name_Tray Loop                     0\n",
       "artist_name_Waka Flocka Flame             0\n",
       "artist_name_Waterfall Sounds              0\n",
       "artist_name_Wolfgang Amadeus Mozart       0\n",
       "artist_name_YoungBoy Never Broke Again    0\n",
       "artist_name_Yuuki Sung                    0\n",
       "artist_name_Кино                          0\n",
       "artist_name_Михаил Шуфутинский            0\n",
       "Length: 88, dtype: int64"
      ]
     },
     "execution_count": 27,
     "metadata": {},
     "output_type": "execute_result"
    }
   ],
   "source": [
    "spotifyFilt.isna().sum()"
   ]
  },
  {
   "cell_type": "markdown",
   "metadata": {},
   "source": [
    "## Model Creation, Train and Testing"
   ]
  },
  {
   "cell_type": "markdown",
   "metadata": {},
   "source": [
    "### Linear Regression Model"
   ]
  },
  {
   "cell_type": "code",
   "execution_count": 28,
   "metadata": {},
   "outputs": [],
   "source": [
    "y_lin=spotifyFilt['popularity']\n",
    "X_lin=spotifyFilt.drop(columns=['popularity'])"
   ]
  },
  {
   "cell_type": "code",
   "execution_count": 29,
   "metadata": {},
   "outputs": [
    {
     "data": {
      "text/plain": [
       "LinearRegression(copy_X=True, fit_intercept=True, n_jobs=None,\n",
       "         normalize=False)"
      ]
     },
     "execution_count": 29,
     "metadata": {},
     "output_type": "execute_result"
    }
   ],
   "source": [
    "linModel=linear_model.LinearRegression()\n",
    "linModel.fit(X_lin, y_lin)"
   ]
  },
  {
   "cell_type": "code",
   "execution_count": 30,
   "metadata": {
    "scrolled": true
   },
   "outputs": [
    {
     "data": {
      "text/plain": [
       "0.11417054953280725"
      ]
     },
     "execution_count": 30,
     "metadata": {},
     "output_type": "execute_result"
    }
   ],
   "source": [
    "linModel.score(X_lin, y_lin)"
   ]
  },
  {
   "cell_type": "markdown",
   "metadata": {},
   "source": [
    "### Classification models"
   ]
  },
  {
   "cell_type": "markdown",
   "metadata": {},
   "source": [
    "For classification purposes we will convert the popularity field in a categorical feature containing 10 different clases:\n",
    "\n",
    "* 0: 1-10\n",
    "* 1: 11-20\n",
    "* ...\n",
    "* 9: 99-100\n",
    "\n",
    "Reducing the number of classes will make our models more accurate"
   ]
  },
  {
   "cell_type": "code",
   "execution_count": 31,
   "metadata": {
    "scrolled": true
   },
   "outputs": [
    {
     "data": {
      "text/plain": [
       "0      11504\n",
       "25      2655\n",
       "17      2609\n",
       "19      2564\n",
       "24      2534\n",
       "15      2517\n",
       "16      2512\n",
       "26      2501\n",
       "18      2494\n",
       "27      2470\n",
       "13      2451\n",
       "20      2438\n",
       "21      2430\n",
       "14      2405\n",
       "22      2388\n",
       "28      2380\n",
       "1       2367\n",
       "29      2323\n",
       "12      2241\n",
       "23      2183\n",
       "11      2156\n",
       "30      2146\n",
       "31      2056\n",
       "10      2042\n",
       "32      1946\n",
       "8       1864\n",
       "9       1864\n",
       "7       1856\n",
       "6       1798\n",
       "33      1780\n",
       "       ...  \n",
       "70       180\n",
       "71       134\n",
       "72       131\n",
       "73       123\n",
       "74       108\n",
       "75        99\n",
       "76        74\n",
       "77        61\n",
       "78        54\n",
       "79        52\n",
       "81        38\n",
       "80        33\n",
       "82        30\n",
       "85        27\n",
       "84        24\n",
       "83        22\n",
       "87        15\n",
       "86        13\n",
       "89        13\n",
       "88        12\n",
       "90        12\n",
       "93         6\n",
       "92         6\n",
       "91         5\n",
       "95         4\n",
       "96         1\n",
       "94         1\n",
       "97         1\n",
       "99         1\n",
       "100        1\n",
       "Name: popularity, Length: 100, dtype: int64"
      ]
     },
     "execution_count": 31,
     "metadata": {},
     "output_type": "execute_result"
    }
   ],
   "source": [
    "spotifyFilt['popularity'].value_counts()"
   ]
  },
  {
   "cell_type": "code",
   "execution_count": 32,
   "metadata": {},
   "outputs": [
    {
     "data": {
      "text/plain": [
       "20     42751\n",
       "40     39750\n",
       "60     18368\n",
       "0      11504\n",
       "80      3767\n",
       "100      232\n",
       "Name: popularityClas, dtype: int64"
      ]
     },
     "execution_count": 32,
     "metadata": {},
     "output_type": "execute_result"
    }
   ],
   "source": [
    "Clas=spotifyFilt.copy()\n",
    "Clas['popularityClas']=pd.cut(Clas['popularity'],[-1,0,20,40,60,80,100], labels=[0,20,40,60,80,100])\n",
    "Clas['popularityClas'].value_counts()"
   ]
  },
  {
   "cell_type": "code",
   "execution_count": 33,
   "metadata": {},
   "outputs": [
    {
     "data": {
      "text/plain": [
       "0"
      ]
     },
     "execution_count": 33,
     "metadata": {},
     "output_type": "execute_result"
    }
   ],
   "source": [
    "Clas['popularityClas'].isna().sum()"
   ]
  },
  {
   "cell_type": "code",
   "execution_count": 34,
   "metadata": {
    "scrolled": true
   },
   "outputs": [
    {
     "data": {
      "text/html": [
       "<div>\n",
       "<style scoped>\n",
       "    .dataframe tbody tr th:only-of-type {\n",
       "        vertical-align: middle;\n",
       "    }\n",
       "\n",
       "    .dataframe tbody tr th {\n",
       "        vertical-align: top;\n",
       "    }\n",
       "\n",
       "    .dataframe thead th {\n",
       "        text-align: right;\n",
       "    }\n",
       "</style>\n",
       "<table border=\"1\" class=\"dataframe\">\n",
       "  <thead>\n",
       "    <tr style=\"text-align: right;\">\n",
       "      <th></th>\n",
       "      <th></th>\n",
       "      <th>popularity</th>\n",
       "    </tr>\n",
       "    <tr>\n",
       "      <th>popularity</th>\n",
       "      <th>popularityClas</th>\n",
       "      <th></th>\n",
       "    </tr>\n",
       "  </thead>\n",
       "  <tbody>\n",
       "    <tr>\n",
       "      <th>0</th>\n",
       "      <th>0</th>\n",
       "      <td>11504</td>\n",
       "    </tr>\n",
       "    <tr>\n",
       "      <th>1</th>\n",
       "      <th>20</th>\n",
       "      <td>2367</td>\n",
       "    </tr>\n",
       "    <tr>\n",
       "      <th>2</th>\n",
       "      <th>20</th>\n",
       "      <td>1723</td>\n",
       "    </tr>\n",
       "    <tr>\n",
       "      <th>3</th>\n",
       "      <th>20</th>\n",
       "      <td>1723</td>\n",
       "    </tr>\n",
       "    <tr>\n",
       "      <th>4</th>\n",
       "      <th>20</th>\n",
       "      <td>1543</td>\n",
       "    </tr>\n",
       "    <tr>\n",
       "      <th>5</th>\n",
       "      <th>20</th>\n",
       "      <td>1584</td>\n",
       "    </tr>\n",
       "    <tr>\n",
       "      <th>6</th>\n",
       "      <th>20</th>\n",
       "      <td>1798</td>\n",
       "    </tr>\n",
       "    <tr>\n",
       "      <th>7</th>\n",
       "      <th>20</th>\n",
       "      <td>1856</td>\n",
       "    </tr>\n",
       "    <tr>\n",
       "      <th>8</th>\n",
       "      <th>20</th>\n",
       "      <td>1864</td>\n",
       "    </tr>\n",
       "    <tr>\n",
       "      <th>9</th>\n",
       "      <th>20</th>\n",
       "      <td>1864</td>\n",
       "    </tr>\n",
       "    <tr>\n",
       "      <th>10</th>\n",
       "      <th>20</th>\n",
       "      <td>2042</td>\n",
       "    </tr>\n",
       "    <tr>\n",
       "      <th>11</th>\n",
       "      <th>20</th>\n",
       "      <td>2156</td>\n",
       "    </tr>\n",
       "    <tr>\n",
       "      <th>12</th>\n",
       "      <th>20</th>\n",
       "      <td>2241</td>\n",
       "    </tr>\n",
       "    <tr>\n",
       "      <th>13</th>\n",
       "      <th>20</th>\n",
       "      <td>2451</td>\n",
       "    </tr>\n",
       "    <tr>\n",
       "      <th>14</th>\n",
       "      <th>20</th>\n",
       "      <td>2405</td>\n",
       "    </tr>\n",
       "    <tr>\n",
       "      <th>15</th>\n",
       "      <th>20</th>\n",
       "      <td>2517</td>\n",
       "    </tr>\n",
       "    <tr>\n",
       "      <th>16</th>\n",
       "      <th>20</th>\n",
       "      <td>2512</td>\n",
       "    </tr>\n",
       "    <tr>\n",
       "      <th>17</th>\n",
       "      <th>20</th>\n",
       "      <td>2609</td>\n",
       "    </tr>\n",
       "    <tr>\n",
       "      <th>18</th>\n",
       "      <th>20</th>\n",
       "      <td>2494</td>\n",
       "    </tr>\n",
       "    <tr>\n",
       "      <th>19</th>\n",
       "      <th>20</th>\n",
       "      <td>2564</td>\n",
       "    </tr>\n",
       "    <tr>\n",
       "      <th>20</th>\n",
       "      <th>20</th>\n",
       "      <td>2438</td>\n",
       "    </tr>\n",
       "    <tr>\n",
       "      <th>21</th>\n",
       "      <th>40</th>\n",
       "      <td>2430</td>\n",
       "    </tr>\n",
       "    <tr>\n",
       "      <th>22</th>\n",
       "      <th>40</th>\n",
       "      <td>2388</td>\n",
       "    </tr>\n",
       "    <tr>\n",
       "      <th>23</th>\n",
       "      <th>40</th>\n",
       "      <td>2183</td>\n",
       "    </tr>\n",
       "    <tr>\n",
       "      <th>24</th>\n",
       "      <th>40</th>\n",
       "      <td>2534</td>\n",
       "    </tr>\n",
       "    <tr>\n",
       "      <th>25</th>\n",
       "      <th>40</th>\n",
       "      <td>2655</td>\n",
       "    </tr>\n",
       "    <tr>\n",
       "      <th>26</th>\n",
       "      <th>40</th>\n",
       "      <td>2501</td>\n",
       "    </tr>\n",
       "    <tr>\n",
       "      <th>27</th>\n",
       "      <th>40</th>\n",
       "      <td>2470</td>\n",
       "    </tr>\n",
       "    <tr>\n",
       "      <th>28</th>\n",
       "      <th>40</th>\n",
       "      <td>2380</td>\n",
       "    </tr>\n",
       "    <tr>\n",
       "      <th>29</th>\n",
       "      <th>40</th>\n",
       "      <td>2323</td>\n",
       "    </tr>\n",
       "    <tr>\n",
       "      <th>...</th>\n",
       "      <th>...</th>\n",
       "      <td>...</td>\n",
       "    </tr>\n",
       "    <tr>\n",
       "      <th>70</th>\n",
       "      <th>80</th>\n",
       "      <td>180</td>\n",
       "    </tr>\n",
       "    <tr>\n",
       "      <th>71</th>\n",
       "      <th>80</th>\n",
       "      <td>134</td>\n",
       "    </tr>\n",
       "    <tr>\n",
       "      <th>72</th>\n",
       "      <th>80</th>\n",
       "      <td>131</td>\n",
       "    </tr>\n",
       "    <tr>\n",
       "      <th>73</th>\n",
       "      <th>80</th>\n",
       "      <td>123</td>\n",
       "    </tr>\n",
       "    <tr>\n",
       "      <th>74</th>\n",
       "      <th>80</th>\n",
       "      <td>108</td>\n",
       "    </tr>\n",
       "    <tr>\n",
       "      <th>75</th>\n",
       "      <th>80</th>\n",
       "      <td>99</td>\n",
       "    </tr>\n",
       "    <tr>\n",
       "      <th>76</th>\n",
       "      <th>80</th>\n",
       "      <td>74</td>\n",
       "    </tr>\n",
       "    <tr>\n",
       "      <th>77</th>\n",
       "      <th>80</th>\n",
       "      <td>61</td>\n",
       "    </tr>\n",
       "    <tr>\n",
       "      <th>78</th>\n",
       "      <th>80</th>\n",
       "      <td>54</td>\n",
       "    </tr>\n",
       "    <tr>\n",
       "      <th>79</th>\n",
       "      <th>80</th>\n",
       "      <td>52</td>\n",
       "    </tr>\n",
       "    <tr>\n",
       "      <th>80</th>\n",
       "      <th>80</th>\n",
       "      <td>33</td>\n",
       "    </tr>\n",
       "    <tr>\n",
       "      <th>81</th>\n",
       "      <th>100</th>\n",
       "      <td>38</td>\n",
       "    </tr>\n",
       "    <tr>\n",
       "      <th>82</th>\n",
       "      <th>100</th>\n",
       "      <td>30</td>\n",
       "    </tr>\n",
       "    <tr>\n",
       "      <th>83</th>\n",
       "      <th>100</th>\n",
       "      <td>22</td>\n",
       "    </tr>\n",
       "    <tr>\n",
       "      <th>84</th>\n",
       "      <th>100</th>\n",
       "      <td>24</td>\n",
       "    </tr>\n",
       "    <tr>\n",
       "      <th>85</th>\n",
       "      <th>100</th>\n",
       "      <td>27</td>\n",
       "    </tr>\n",
       "    <tr>\n",
       "      <th>86</th>\n",
       "      <th>100</th>\n",
       "      <td>13</td>\n",
       "    </tr>\n",
       "    <tr>\n",
       "      <th>87</th>\n",
       "      <th>100</th>\n",
       "      <td>15</td>\n",
       "    </tr>\n",
       "    <tr>\n",
       "      <th>88</th>\n",
       "      <th>100</th>\n",
       "      <td>12</td>\n",
       "    </tr>\n",
       "    <tr>\n",
       "      <th>89</th>\n",
       "      <th>100</th>\n",
       "      <td>13</td>\n",
       "    </tr>\n",
       "    <tr>\n",
       "      <th>90</th>\n",
       "      <th>100</th>\n",
       "      <td>12</td>\n",
       "    </tr>\n",
       "    <tr>\n",
       "      <th>91</th>\n",
       "      <th>100</th>\n",
       "      <td>5</td>\n",
       "    </tr>\n",
       "    <tr>\n",
       "      <th>92</th>\n",
       "      <th>100</th>\n",
       "      <td>6</td>\n",
       "    </tr>\n",
       "    <tr>\n",
       "      <th>93</th>\n",
       "      <th>100</th>\n",
       "      <td>6</td>\n",
       "    </tr>\n",
       "    <tr>\n",
       "      <th>94</th>\n",
       "      <th>100</th>\n",
       "      <td>1</td>\n",
       "    </tr>\n",
       "    <tr>\n",
       "      <th>95</th>\n",
       "      <th>100</th>\n",
       "      <td>4</td>\n",
       "    </tr>\n",
       "    <tr>\n",
       "      <th>96</th>\n",
       "      <th>100</th>\n",
       "      <td>1</td>\n",
       "    </tr>\n",
       "    <tr>\n",
       "      <th>97</th>\n",
       "      <th>100</th>\n",
       "      <td>1</td>\n",
       "    </tr>\n",
       "    <tr>\n",
       "      <th>99</th>\n",
       "      <th>100</th>\n",
       "      <td>1</td>\n",
       "    </tr>\n",
       "    <tr>\n",
       "      <th>100</th>\n",
       "      <th>100</th>\n",
       "      <td>1</td>\n",
       "    </tr>\n",
       "  </tbody>\n",
       "</table>\n",
       "<p>100 rows × 1 columns</p>\n",
       "</div>"
      ],
      "text/plain": [
       "                           popularity\n",
       "popularity popularityClas            \n",
       "0          0                    11504\n",
       "1          20                    2367\n",
       "2          20                    1723\n",
       "3          20                    1723\n",
       "4          20                    1543\n",
       "5          20                    1584\n",
       "6          20                    1798\n",
       "7          20                    1856\n",
       "8          20                    1864\n",
       "9          20                    1864\n",
       "10         20                    2042\n",
       "11         20                    2156\n",
       "12         20                    2241\n",
       "13         20                    2451\n",
       "14         20                    2405\n",
       "15         20                    2517\n",
       "16         20                    2512\n",
       "17         20                    2609\n",
       "18         20                    2494\n",
       "19         20                    2564\n",
       "20         20                    2438\n",
       "21         40                    2430\n",
       "22         40                    2388\n",
       "23         40                    2183\n",
       "24         40                    2534\n",
       "25         40                    2655\n",
       "26         40                    2501\n",
       "27         40                    2470\n",
       "28         40                    2380\n",
       "29         40                    2323\n",
       "...                               ...\n",
       "70         80                     180\n",
       "71         80                     134\n",
       "72         80                     131\n",
       "73         80                     123\n",
       "74         80                     108\n",
       "75         80                      99\n",
       "76         80                      74\n",
       "77         80                      61\n",
       "78         80                      54\n",
       "79         80                      52\n",
       "80         80                      33\n",
       "81         100                     38\n",
       "82         100                     30\n",
       "83         100                     22\n",
       "84         100                     24\n",
       "85         100                     27\n",
       "86         100                     13\n",
       "87         100                     15\n",
       "88         100                     12\n",
       "89         100                     13\n",
       "90         100                     12\n",
       "91         100                      5\n",
       "92         100                      6\n",
       "93         100                      6\n",
       "94         100                      1\n",
       "95         100                      4\n",
       "96         100                      1\n",
       "97         100                      1\n",
       "99         100                      1\n",
       "100        100                      1\n",
       "\n",
       "[100 rows x 1 columns]"
      ]
     },
     "execution_count": 34,
     "metadata": {},
     "output_type": "execute_result"
    }
   ],
   "source": [
    "Clas[['popularity','popularityClas']].groupby(['popularity','popularityClas']).agg({'popularity':'count'})"
   ]
  },
  {
   "cell_type": "code",
   "execution_count": 35,
   "metadata": {},
   "outputs": [],
   "source": [
    "y=Clas['popularityClas']\n",
    "X=Clas.drop(columns=['popularity','popularityClas'])"
   ]
  },
  {
   "cell_type": "code",
   "execution_count": 36,
   "metadata": {},
   "outputs": [
    {
     "data": {
      "text/plain": [
       "(104734, 11638, 104734, 11638)"
      ]
     },
     "execution_count": 36,
     "metadata": {},
     "output_type": "execute_result"
    }
   ],
   "source": [
    "X_train, X_test, y_train, y_test = train_test_split(X,y,test_size=0.1)\n",
    "len(X_train), len(X_test), len(y_train), len(y_test)"
   ]
  },
  {
   "cell_type": "markdown",
   "metadata": {},
   "source": [
    "We also define a function to represent the confusion matrix later steps"
   ]
  },
  {
   "cell_type": "code",
   "execution_count": 37,
   "metadata": {},
   "outputs": [],
   "source": [
    "def confusionMatrixHeatmap(cm, labels):\n",
    "    totals = cm.sum(axis=1)\n",
    "    cm_total = (np.ones(cm.shape)*totals).transpose()\n",
    "    m2 = np.round(((cm/cm_total)*100).astype(float))\n",
    "    np.set_printoptions(precision=2)\n",
    "    f, ax=plt.subplots(figsize=(15,10))\n",
    "    sns.heatmap(m2, annot=True, linecolor='white', linewidths=0.2,\n",
    "                xticklabels=labels, yticklabels=labels)\n",
    "    ax.set_title('CONFUSION MATRIX')\n",
    "    plt.xlabel('Classified as')\n",
    "    plt.ylabel('Real Values')\n",
    "    "
   ]
  },
  {
   "cell_type": "markdown",
   "metadata": {},
   "source": [
    "## Logistic Regression Model"
   ]
  },
  {
   "cell_type": "code",
   "execution_count": 38,
   "metadata": {},
   "outputs": [
    {
     "name": "stderr",
     "output_type": "stream",
     "text": [
      "/home/albertocastellanos/.local/lib/python3.6/site-packages/sklearn/linear_model/logistic.py:432: FutureWarning: Default solver will be changed to 'lbfgs' in 0.22. Specify a solver to silence this warning.\n",
      "  FutureWarning)\n",
      "/home/albertocastellanos/.local/lib/python3.6/site-packages/sklearn/linear_model/logistic.py:459: FutureWarning: Default multi_class will be changed to 'auto' in 0.22. Specify the multi_class option to silence this warning.\n",
      "  \"this warning.\", FutureWarning)\n"
     ]
    },
    {
     "data": {
      "text/plain": [
       "LogisticRegression(C=1.0, class_weight=None, dual=False, fit_intercept=True,\n",
       "          intercept_scaling=1, max_iter=100, multi_class='warn',\n",
       "          n_jobs=None, penalty='l2', random_state=None, solver='warn',\n",
       "          tol=0.0001, verbose=0, warm_start=False)"
      ]
     },
     "execution_count": 38,
     "metadata": {},
     "output_type": "execute_result"
    }
   ],
   "source": [
    "logModel=LogisticRegression()\n",
    "logModel.fit(X_train, y_train)"
   ]
  },
  {
   "cell_type": "code",
   "execution_count": 39,
   "metadata": {},
   "outputs": [
    {
     "data": {
      "text/plain": [
       "0.37641071667271375"
      ]
     },
     "execution_count": 39,
     "metadata": {},
     "output_type": "execute_result"
    }
   ],
   "source": [
    "logModel.score(X_train, y_train)"
   ]
  },
  {
   "cell_type": "code",
   "execution_count": 40,
   "metadata": {},
   "outputs": [
    {
     "data": {
      "text/plain": [
       "array([20, 40, 20, ..., 20, 20, 40])"
      ]
     },
     "execution_count": 40,
     "metadata": {},
     "output_type": "execute_result"
    }
   ],
   "source": [
    "y_pred_test_log=logModel.predict(X_test)\n",
    "y_pred_test_log"
   ]
  },
  {
   "cell_type": "code",
   "execution_count": 41,
   "metadata": {},
   "outputs": [
    {
     "data": {
      "text/plain": [
       "array([[   0,  791,  377,    0,    0,    0],\n",
       "       [   0, 3023, 1205,    0,    0,    0],\n",
       "       [   0, 2621, 1360,    0,    0,    0],\n",
       "       [   0, 1141,  728,    0,    0,    0],\n",
       "       [   0,  219,  150,    0,    0,    0],\n",
       "       [   0,   11,   12,    0,    0,    0]])"
      ]
     },
     "metadata": {},
     "output_type": "display_data"
    },
    {
     "data": {
      "image/png": "[encoded data removed]",
      "text/plain": [
       "<Figure size 1080x720 with 2 Axes>"
      ]
     },
     "metadata": {
      "needs_background": "light"
     },
     "output_type": "display_data"
    }
   ],
   "source": [
    "cmlog=confusion_matrix(y_test, y_pred_test_log)\n",
    "display(cmlog)\n",
    "confusionMatrixHeatmap(cmlog, [0,20,40,60,80,100])"
   ]
  },
  {
   "cell_type": "code",
   "execution_count": 69,
   "metadata": {},
   "outputs": [
    {
     "data": {
      "text/plain": [
       "0.3766111015638426"
      ]
     },
     "execution_count": 69,
     "metadata": {},
     "output_type": "execute_result"
    }
   ],
   "source": [
    "metrics.accuracy_score(y_test, y_pred_test_log)"
   ]
  },
  {
   "cell_type": "markdown",
   "metadata": {},
   "source": [
    "## SVC"
   ]
  },
  {
   "cell_type": "code",
   "execution_count": 42,
   "metadata": {},
   "outputs": [],
   "source": [
    "svcModel=SVC()"
   ]
  },
  {
   "cell_type": "code",
   "execution_count": 43,
   "metadata": {},
   "outputs": [],
   "source": [
    "#svcModel.fit(X_train,y_train)"
   ]
  },
  {
   "cell_type": "code",
   "execution_count": 44,
   "metadata": {},
   "outputs": [],
   "source": [
    "#svcModel.score()"
   ]
  },
  {
   "cell_type": "markdown",
   "metadata": {},
   "source": [
    "## Decision Tree"
   ]
  },
  {
   "cell_type": "code",
   "execution_count": 54,
   "metadata": {},
   "outputs": [],
   "source": [
    "dtModel=tree.DecisionTreeClassifier()"
   ]
  },
  {
   "cell_type": "code",
   "execution_count": 55,
   "metadata": {},
   "outputs": [
    {
     "data": {
      "text/plain": [
       "DecisionTreeClassifier(class_weight=None, criterion='gini', max_depth=None,\n",
       "            max_features=None, max_leaf_nodes=None,\n",
       "            min_impurity_decrease=0.0, min_impurity_split=None,\n",
       "            min_samples_leaf=1, min_samples_split=2,\n",
       "            min_weight_fraction_leaf=0.0, presort=False, random_state=None,\n",
       "            splitter='best')"
      ]
     },
     "execution_count": 55,
     "metadata": {},
     "output_type": "execute_result"
    }
   ],
   "source": [
    "dtModel.fit(X_train,y_train)"
   ]
  },
  {
   "cell_type": "code",
   "execution_count": 57,
   "metadata": {},
   "outputs": [
    {
     "data": {
      "text/plain": [
       "0.9978803444917601"
      ]
     },
     "execution_count": 57,
     "metadata": {},
     "output_type": "execute_result"
    }
   ],
   "source": [
    "dtModel.score(X_train, y_train)"
   ]
  },
  {
   "cell_type": "code",
   "execution_count": 58,
   "metadata": {},
   "outputs": [],
   "source": [
    "y_pred_test_dt=dtModel.predict(X_test)"
   ]
  },
  {
   "cell_type": "code",
   "execution_count": 70,
   "metadata": {},
   "outputs": [
    {
     "data": {
      "text/plain": [
       "0.3693933665578278"
      ]
     },
     "execution_count": 70,
     "metadata": {},
     "output_type": "execute_result"
    }
   ],
   "source": [
    "metrics.accuracy_score(y_test, y_pred_test_dt)"
   ]
  },
  {
   "cell_type": "code",
   "execution_count": 60,
   "metadata": {},
   "outputs": [
    {
     "data": {
      "text/plain": [
       "array([[ 306,  349,  347,  134,   32,    0],\n",
       "       [ 360, 1919, 1300,  541,  103,    5],\n",
       "       [ 318, 1351, 1555,  631,  118,    8],\n",
       "       [ 120,  501,  672,  464,  102,   10],\n",
       "       [  28,   95,  114,   77,   55,    0],\n",
       "       [   0,    9,    7,    6,    1,    0]])"
      ]
     },
     "metadata": {},
     "output_type": "display_data"
    },
    {
     "data": {
      "image/png": "[encoded data removed]",
      "text/plain": [
       "<Figure size 1080x720 with 2 Axes>"
      ]
     },
     "metadata": {
      "needs_background": "light"
     },
     "output_type": "display_data"
    }
   ],
   "source": [
    "cmdt=confusion_matrix(y_test, y_pred_test_dt)\n",
    "display(cmdt)\n",
    "confusionMatrixHeatmap(cmdt, [0,20,40,60,80,100])"
   ]
  },
  {
   "cell_type": "markdown",
   "metadata": {},
   "source": [
    "## Random Forest"
   ]
  },
  {
   "cell_type": "code",
   "execution_count": 45,
   "metadata": {},
   "outputs": [
    {
     "name": "stderr",
     "output_type": "stream",
     "text": [
      "/home/albertocastellanos/.local/lib/python3.6/site-packages/sklearn/ensemble/forest.py:248: FutureWarning: The default value of n_estimators will change from 10 in version 0.20 to 100 in 0.22.\n",
      "  \"10 in version 0.20 to 100 in 0.22.\", FutureWarning)\n"
     ]
    },
    {
     "data": {
      "text/plain": [
       "RandomForestClassifier(bootstrap=True, class_weight=None, criterion='gini',\n",
       "            max_depth=None, max_features='auto', max_leaf_nodes=None,\n",
       "            min_impurity_decrease=0.0, min_impurity_split=None,\n",
       "            min_samples_leaf=1, min_samples_split=2,\n",
       "            min_weight_fraction_leaf=0.0, n_estimators=10, n_jobs=None,\n",
       "            oob_score=False, random_state=None, verbose=0,\n",
       "            warm_start=False)"
      ]
     },
     "execution_count": 45,
     "metadata": {},
     "output_type": "execute_result"
    }
   ],
   "source": [
    "rfModel=RandomForestClassifier()\n",
    "rfModel.fit(X_train, y_train)"
   ]
  },
  {
   "cell_type": "code",
   "execution_count": 46,
   "metadata": {},
   "outputs": [
    {
     "data": {
      "text/plain": [
       "0.9843126396394676"
      ]
     },
     "execution_count": 46,
     "metadata": {},
     "output_type": "execute_result"
    }
   ],
   "source": [
    "rfModel.score(X_train, y_train)"
   ]
  },
  {
   "cell_type": "code",
   "execution_count": 47,
   "metadata": {},
   "outputs": [
    {
     "data": {
      "text/plain": [
       "array([40, 20,  0, ..., 40, 40, 40])"
      ]
     },
     "execution_count": 47,
     "metadata": {},
     "output_type": "execute_result"
    }
   ],
   "source": [
    "y_pred_test_rf=rfModel.predict(X_test)\n",
    "y_pred_test_rf"
   ]
  },
  {
   "cell_type": "code",
   "execution_count": 73,
   "metadata": {},
   "outputs": [
    {
     "data": {
      "text/plain": [
       "0.4122701495102251"
      ]
     },
     "execution_count": 73,
     "metadata": {},
     "output_type": "execute_result"
    }
   ],
   "source": [
    "metrics.accuracy_score(y_test, y_pred_test_rf)"
   ]
  },
  {
   "cell_type": "code",
   "execution_count": 72,
   "metadata": {},
   "outputs": [
    {
     "data": {
      "text/plain": [
       "array([[ 269,  496,  338,   59,    6,    0],\n",
       "       [ 200, 2474, 1287,  261,    6,    0],\n",
       "       [ 177, 1715, 1796,  285,    8,    0],\n",
       "       [  66,  740,  806,  245,   12,    0],\n",
       "       [   8,  144,  155,   48,   14,    0],\n",
       "       [   1,    8,    8,    5,    1,    0]])"
      ]
     },
     "metadata": {},
     "output_type": "display_data"
    },
    {
     "data": {
      "image/png": "[encoded data removed]",
      "text/plain": [
       "<Figure size 1080x720 with 2 Axes>"
      ]
     },
     "metadata": {
      "needs_background": "light"
     },
     "output_type": "display_data"
    }
   ],
   "source": [
    "cmcf=confusion_matrix(y_test, y_pred_test_rf)\n",
    "display(cmcf)\n",
    "confusionMatrixHeatmap(cmcf, [0,20,40,60,80,100])"
   ]
  },
  {
   "cell_type": "markdown",
   "metadata": {},
   "source": [
    "### Cross validation"
   ]
  },
  {
   "cell_type": "code",
   "execution_count": 81,
   "metadata": {},
   "outputs": [
    {
     "data": {
      "text/plain": [
       "array([0.43, 0.38, 0.39, 0.41, 0.39, 0.38, 0.38, 0.38, 0.38, 0.43])"
      ]
     },
     "execution_count": 81,
     "metadata": {},
     "output_type": "execute_result"
    }
   ],
   "source": [
    "# cv=10 because it's been scientifically demonstrated that value is optimum for classification\n",
    "# scoring is set to accuracy since accuracy is the evaluation matrix \n",
    "scores = cross_val_score(rfModel, X, y, cv=10, scoring='accuracy')\n",
    "scores"
   ]
  },
  {
   "cell_type": "code",
   "execution_count": 82,
   "metadata": {},
   "outputs": [
    {
     "data": {
      "text/plain": [
       "0.3941579680653084"
      ]
     },
     "execution_count": 82,
     "metadata": {},
     "output_type": "execute_result"
    }
   ],
   "source": [
    "scores.mean()"
   ]
  },
  {
   "cell_type": "code",
   "execution_count": 89,
   "metadata": {},
   "outputs": [
    {
     "name": "stderr",
     "output_type": "stream",
     "text": [
      "/home/albertocastellanos/.local/lib/python3.6/site-packages/sklearn/model_selection/_split.py:1943: FutureWarning: You should specify a value for 'cv' instead of relying on the default value. The default value will change from 3 to 5 in version 0.22.\n",
      "  warnings.warn(CV_WARNING, FutureWarning)\n"
     ]
    },
    {
     "name": "stdout",
     "output_type": "stream",
     "text": [
      "[ True  True  True  True  True  True  True  True  True  True  True  True\n",
      "  True  True False False False  True  True False  True False False False\n",
      "  True False False False  True  True False False False False  True  True\n",
      " False False False  True  True  True  True False False  True False  True\n",
      " False False  True False  True False False False False False  True  True\n",
      " False  True False False  True  True  True  True False False False False\n",
      "  True False False False False  True False  True  True False  True  True\n",
      " False  True  True]\n",
      "[ 1  1  1  1  1  1  1  1  1  1  1  1  1  1 13  6  2  1  1 10  1  6  5  3\n",
      "  1  2 10 12  1  1  5 11  3 13  1  1 11 14 15  1  1  1  1 14 10  1  8  1\n",
      "  5  6  1  4  1 14  4 15 12  7  1  1  2  1 13  8  1  1  1  1 15  9  4  7\n",
      "  1 12  9  8  3  1  7  1  1 11  1  1  9  1  1]\n"
     ]
    }
   ],
   "source": [
    "# Recursive Feature Elimination\n",
    "\n",
    "from sklearn.feature_selection import RFECV\n",
    "\n",
    "\n",
    "\n",
    "# create the RFE model and select 3 attributes\n",
    "rfecv = RFECV(rfModel, 3)\n",
    "rfecv.fit(X_train, y_train)\n",
    "# summarize the selection of the attributes\n",
    "print(rfecv.support_)\n",
    "print(rfecv.ranking_)"
   ]
  },
  {
   "cell_type": "code",
   "execution_count": null,
   "metadata": {},
   "outputs": [],
   "source": [
    "rfecv.score(X_train, y_train)"
   ]
  },
  {
   "cell_type": "code",
   "execution_count": 90,
   "metadata": {},
   "outputs": [
    {
     "name": "stdout",
     "output_type": "stream",
     "text": [
      "[False False  True False False False False  True False False  True False\n",
      " False False False False False False False False False False False False\n",
      " False False False False False False False False False False False False\n",
      " False False False False False False False False False False False False\n",
      " False False False False False False False False False False False False\n",
      " False False False False False False False False False False False False\n",
      " False False False False False False False False False False False False\n",
      " False False False]\n",
      "[ 2  4  1  3  8  9  7  1 10  6  1 12  5 22 84 57 47 20 37 63 38 50 61 51\n",
      " 24 52 56 78 16 21 54 74 48 82 31 34 69 67 81 33 14 23 13 80 71 40 64 18\n",
      " 62 55 29 42 28 79 43 83 72 66 11 36 53 35 77 65 25 46 15 30 85 60 58 49\n",
      " 41 73 68 76 44 27 59 45 17 70 19 26 75 39 32]\n"
     ]
    }
   ],
   "source": [
    "# Recursive Feature Elimination\n",
    "\n",
    "from sklearn.feature_selection import RFE\n",
    "\n",
    "\n",
    "\n",
    "# create the RFE model and select 3 attributes\n",
    "rfe = RFE(rfModel, 3)\n",
    "rfe.fit(X_train, y_train)\n",
    "# summarize the selection of the attributes\n",
    "print(rfe.support_)\n",
    "print(rfe.ranking_)"
   ]
  },
  {
   "cell_type": "code",
   "execution_count": 91,
   "metadata": {},
   "outputs": [
    {
     "data": {
      "text/plain": [
       "0.9778390971413294"
      ]
     },
     "execution_count": 91,
     "metadata": {},
     "output_type": "execute_result"
    }
   ],
   "source": [
    "rfe.score(X_train, y_train)"
   ]
  },
  {
   "cell_type": "code",
   "execution_count": 92,
   "metadata": {},
   "outputs": [],
   "source": [
    "y_pred_test_rfe=rfe.predict(X_test)"
   ]
  },
  {
   "cell_type": "code",
   "execution_count": 93,
   "metadata": {},
   "outputs": [
    {
     "data": {
      "text/plain": [
       "0.3572778827977316"
      ]
     },
     "execution_count": 93,
     "metadata": {},
     "output_type": "execute_result"
    }
   ],
   "source": [
    "metrics.accuracy_score(y_test, y_pred_test_rfe)"
   ]
  },
  {
   "cell_type": "markdown",
   "metadata": {},
   "source": [
    "## K Nearest Neighbours"
   ]
  },
  {
   "cell_type": "code",
   "execution_count": 63,
   "metadata": {},
   "outputs": [
    {
     "data": {
      "text/plain": [
       "KNeighborsClassifier(algorithm='auto', leaf_size=30, metric='minkowski',\n",
       "           metric_params=None, n_jobs=None, n_neighbors=6, p=2,\n",
       "           weights='uniform')"
      ]
     },
     "execution_count": 63,
     "metadata": {},
     "output_type": "execute_result"
    }
   ],
   "source": [
    "knnModel=KNeighborsClassifier(n_neighbors=6)\n",
    "knnModel.fit(X_train, y_train)"
   ]
  },
  {
   "cell_type": "code",
   "execution_count": 64,
   "metadata": {},
   "outputs": [
    {
     "data": {
      "text/plain": [
       "0.5232589226039299"
      ]
     },
     "execution_count": 64,
     "metadata": {},
     "output_type": "execute_result"
    }
   ],
   "source": [
    "knnModel.score(X_train, y_train)"
   ]
  },
  {
   "cell_type": "code",
   "execution_count": 65,
   "metadata": {},
   "outputs": [
    {
     "data": {
      "text/plain": [
       "array([20, 20, 20, ...,  0, 20, 20])"
      ]
     },
     "execution_count": 65,
     "metadata": {},
     "output_type": "execute_result"
    }
   ],
   "source": [
    "y_pred_test_knn=knnModel.predict(X_test)\n",
    "y_pred_test_knn"
   ]
  },
  {
   "cell_type": "code",
   "execution_count": 74,
   "metadata": {},
   "outputs": [
    {
     "data": {
      "text/plain": [
       "0.34593572778827975"
      ]
     },
     "execution_count": 74,
     "metadata": {},
     "output_type": "execute_result"
    }
   ],
   "source": [
    "metrics.accuracy_score(y_test, y_pred_test_knn)"
   ]
  },
  {
   "cell_type": "code",
   "execution_count": 66,
   "metadata": {
    "scrolled": true
   },
   "outputs": [
    {
     "data": {
      "text/plain": [
       "array([[ 213,  516,  369,   68,    2,    0],\n",
       "       [ 346, 2280, 1362,  237,    2,    1],\n",
       "       [ 324, 2006, 1389,  248,   14,    0],\n",
       "       [ 128,  908,  678,  144,   11,    0],\n",
       "       [  28,  182,  133,   26,    0,    0],\n",
       "       [   0,   10,    7,    6,    0,    0]])"
      ]
     },
     "metadata": {},
     "output_type": "display_data"
    },
    {
     "data": {
      "image/png": "[encoded data removed]",
      "text/plain": [
       "<Figure size 1080x720 with 2 Axes>"
      ]
     },
     "metadata": {
      "needs_background": "light"
     },
     "output_type": "display_data"
    }
   ],
   "source": [
    "cmknn=confusion_matrix(y_test, y_pred_test_knn)\n",
    "display(cmknn)\n",
    "confusionMatrixHeatmap(cmknn, [0,20,40,60,80,100])"
   ]
  },
  {
   "cell_type": "markdown",
   "metadata": {},
   "source": [
    "### Cross validation"
   ]
  },
  {
   "cell_type": "code",
   "execution_count": 78,
   "metadata": {},
   "outputs": [
    {
     "data": {
      "text/plain": [
       "array([0.34, 0.34, 0.34, 0.34, 0.33, 0.34, 0.34, 0.34, 0.34, 0.34])"
      ]
     },
     "execution_count": 78,
     "metadata": {},
     "output_type": "execute_result"
    }
   ],
   "source": [
    "# cv=10 because it's been scientifically demonstrated that value is optimum for classification\n",
    "# scoring is set to accuracy since accuracy is the evaluation matrix \n",
    "scores = cross_val_score(knnModel, X, y, cv=10, scoring='accuracy')\n",
    "scores"
   ]
  },
  {
   "cell_type": "code",
   "execution_count": 79,
   "metadata": {},
   "outputs": [
    {
     "data": {
      "text/plain": [
       "0.33920524346584874"
      ]
     },
     "execution_count": 79,
     "metadata": {},
     "output_type": "execute_result"
    }
   ],
   "source": [
    "scores.mean()"
   ]
  },
  {
   "cell_type": "code",
   "execution_count": null,
   "metadata": {},
   "outputs": [],
   "source": []
  }
 ],
 "metadata": {
  "kernelspec": {
   "display_name": "Python 3",
   "language": "python",
   "name": "python3"
  },
  "language_info": {
   "codemirror_mode": {
    "name": "ipython",
    "version": 3
   },
   "file_extension": ".py",
   "mimetype": "text/x-python",
   "name": "python",
   "nbconvert_exporter": "python",
   "pygments_lexer": "ipython3",
   "version": "3.6.6"
  }
 },
 "nbformat": 4,
 "nbformat_minor": 2
}
